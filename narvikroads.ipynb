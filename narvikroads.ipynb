{
 "metadata": {
  "kernelspec": {
   "language": "python",
   "display_name": "Python 3",
   "name": "python3"
  },
  "language_info": {
   "name": "python",
   "version": "3.7.12",
   "mimetype": "text/x-python",
   "codemirror_mode": {
    "name": "ipython",
    "version": 3
   },
   "pygments_lexer": "ipython3",
   "nbconvert_exporter": "python",
   "file_extension": ".py"
  }
 },
 "nbformat_minor": 4,
 "nbformat": 4,
 "cells": [
  {
   "cell_type": "code",
   "source": [
    "import numpy as np # linear algebra\n",
    "import pandas as pd # data processing, CSV file I/O (e.g. pd.read_csv)\n",
    "\n",
    "\n",
    "import os\n",
    "for dirname, _, filenames in os.walk('/kaggle/input'):\n",
    "    for filename in filenames:\n",
    "        print(os.path.join(dirname, filename))\n",
    "\n"
   ],
   "metadata": {
    "_uuid": "8f2839f25d086af736a60e9eeb907d3b93b6e0e5",
    "_cell_guid": "b1076dfc-b9ad-4769-8c92-a6c4dae69d19",
    "execution": {
     "iopub.status.busy": "2022-10-26T09:55:06.773726Z",
     "iopub.execute_input": "2022-10-26T09:55:06.774198Z",
     "iopub.status.idle": "2022-10-26T09:55:06.786818Z",
     "shell.execute_reply.started": "2022-10-26T09:55:06.774160Z",
     "shell.execute_reply": "2022-10-26T09:55:06.785941Z"
    },
    "trusted": true
   },
   "execution_count": 1,
   "outputs": []
  },
  {
   "cell_type": "code",
   "source": [
    "# %pip install pyowm --extra-index-url=https://pypi.org/project/pyowm/"
   ],
   "metadata": {
    "execution": {
     "iopub.status.busy": "2022-10-26T09:55:07.344839Z",
     "iopub.execute_input": "2022-10-26T09:55:07.345712Z",
     "iopub.status.idle": "2022-10-26T09:55:07.351402Z",
     "shell.execute_reply.started": "2022-10-26T09:55:07.345669Z",
     "shell.execute_reply": "2022-10-26T09:55:07.350328Z"
    },
    "trusted": true
   },
   "execution_count": 2,
   "outputs": []
  },
  {
   "cell_type": "markdown",
   "source": [
    "Additional data may be obtained via API\n",
    "[Link to the paper](https://arxiv.org/pdf/2107.06755.pdf)\n",
    "\n",
    "Open Street Map's OSMNX library API\n",
    "\n",
    "Weather:\n",
    "PyOWM and WWO_hist"
   ],
   "metadata": {}
  },
  {
   "cell_type": "code",
   "source": [
    "roads = pd.read_csv(\"/kaggle/input/road-dataset/UiTdata.csv\")"
   ],
   "metadata": {
    "execution": {
     "iopub.status.busy": "2022-10-26T09:55:08.470601Z",
     "iopub.execute_input": "2022-10-26T09:55:08.471497Z",
     "iopub.status.idle": "2022-10-26T09:55:25.878352Z",
     "shell.execute_reply.started": "2022-10-26T09:55:08.471453Z",
     "shell.execute_reply": "2022-10-26T09:55:25.877117Z"
    },
    "trusted": true
   },
   "execution_count": 3,
   "outputs": [
    {
     "ename": "FileNotFoundError",
     "evalue": "[Errno 2] No such file or directory: '/kaggle/input/road-dataset/UiTdata.csv'",
     "output_type": "error",
     "traceback": [
      "\u001B[1;31m---------------------------------------------------------------------------\u001B[0m",
      "\u001B[1;31mFileNotFoundError\u001B[0m                         Traceback (most recent call last)",
      "Cell \u001B[1;32mIn [3], line 1\u001B[0m\n\u001B[1;32m----> 1\u001B[0m roads \u001B[38;5;241m=\u001B[39m \u001B[43mpd\u001B[49m\u001B[38;5;241;43m.\u001B[39;49m\u001B[43mread_csv\u001B[49m\u001B[43m(\u001B[49m\u001B[38;5;124;43m\"\u001B[39;49m\u001B[38;5;124;43m/kaggle/input/road-dataset/UiTdata.csv\u001B[39;49m\u001B[38;5;124;43m\"\u001B[39;49m\u001B[43m)\u001B[49m\n",
      "File \u001B[1;32mC:\\ifmo\\MultivarAnalysis\\venv\\lib\\site-packages\\pandas\\util\\_decorators.py:311\u001B[0m, in \u001B[0;36mdeprecate_nonkeyword_arguments.<locals>.decorate.<locals>.wrapper\u001B[1;34m(*args, **kwargs)\u001B[0m\n\u001B[0;32m    305\u001B[0m \u001B[38;5;28;01mif\u001B[39;00m \u001B[38;5;28mlen\u001B[39m(args) \u001B[38;5;241m>\u001B[39m num_allow_args:\n\u001B[0;32m    306\u001B[0m     warnings\u001B[38;5;241m.\u001B[39mwarn(\n\u001B[0;32m    307\u001B[0m         msg\u001B[38;5;241m.\u001B[39mformat(arguments\u001B[38;5;241m=\u001B[39marguments),\n\u001B[0;32m    308\u001B[0m         \u001B[38;5;167;01mFutureWarning\u001B[39;00m,\n\u001B[0;32m    309\u001B[0m         stacklevel\u001B[38;5;241m=\u001B[39mstacklevel,\n\u001B[0;32m    310\u001B[0m     )\n\u001B[1;32m--> 311\u001B[0m \u001B[38;5;28;01mreturn\u001B[39;00m func(\u001B[38;5;241m*\u001B[39margs, \u001B[38;5;241m*\u001B[39m\u001B[38;5;241m*\u001B[39mkwargs)\n",
      "File \u001B[1;32mC:\\ifmo\\MultivarAnalysis\\venv\\lib\\site-packages\\pandas\\io\\parsers\\readers.py:680\u001B[0m, in \u001B[0;36mread_csv\u001B[1;34m(filepath_or_buffer, sep, delimiter, header, names, index_col, usecols, squeeze, prefix, mangle_dupe_cols, dtype, engine, converters, true_values, false_values, skipinitialspace, skiprows, skipfooter, nrows, na_values, keep_default_na, na_filter, verbose, skip_blank_lines, parse_dates, infer_datetime_format, keep_date_col, date_parser, dayfirst, cache_dates, iterator, chunksize, compression, thousands, decimal, lineterminator, quotechar, quoting, doublequote, escapechar, comment, encoding, encoding_errors, dialect, error_bad_lines, warn_bad_lines, on_bad_lines, delim_whitespace, low_memory, memory_map, float_precision, storage_options)\u001B[0m\n\u001B[0;32m    665\u001B[0m kwds_defaults \u001B[38;5;241m=\u001B[39m _refine_defaults_read(\n\u001B[0;32m    666\u001B[0m     dialect,\n\u001B[0;32m    667\u001B[0m     delimiter,\n\u001B[1;32m   (...)\u001B[0m\n\u001B[0;32m    676\u001B[0m     defaults\u001B[38;5;241m=\u001B[39m{\u001B[38;5;124m\"\u001B[39m\u001B[38;5;124mdelimiter\u001B[39m\u001B[38;5;124m\"\u001B[39m: \u001B[38;5;124m\"\u001B[39m\u001B[38;5;124m,\u001B[39m\u001B[38;5;124m\"\u001B[39m},\n\u001B[0;32m    677\u001B[0m )\n\u001B[0;32m    678\u001B[0m kwds\u001B[38;5;241m.\u001B[39mupdate(kwds_defaults)\n\u001B[1;32m--> 680\u001B[0m \u001B[38;5;28;01mreturn\u001B[39;00m \u001B[43m_read\u001B[49m\u001B[43m(\u001B[49m\u001B[43mfilepath_or_buffer\u001B[49m\u001B[43m,\u001B[49m\u001B[43m \u001B[49m\u001B[43mkwds\u001B[49m\u001B[43m)\u001B[49m\n",
      "File \u001B[1;32mC:\\ifmo\\MultivarAnalysis\\venv\\lib\\site-packages\\pandas\\io\\parsers\\readers.py:575\u001B[0m, in \u001B[0;36m_read\u001B[1;34m(filepath_or_buffer, kwds)\u001B[0m\n\u001B[0;32m    572\u001B[0m _validate_names(kwds\u001B[38;5;241m.\u001B[39mget(\u001B[38;5;124m\"\u001B[39m\u001B[38;5;124mnames\u001B[39m\u001B[38;5;124m\"\u001B[39m, \u001B[38;5;28;01mNone\u001B[39;00m))\n\u001B[0;32m    574\u001B[0m \u001B[38;5;66;03m# Create the parser.\u001B[39;00m\n\u001B[1;32m--> 575\u001B[0m parser \u001B[38;5;241m=\u001B[39m TextFileReader(filepath_or_buffer, \u001B[38;5;241m*\u001B[39m\u001B[38;5;241m*\u001B[39mkwds)\n\u001B[0;32m    577\u001B[0m \u001B[38;5;28;01mif\u001B[39;00m chunksize \u001B[38;5;129;01mor\u001B[39;00m iterator:\n\u001B[0;32m    578\u001B[0m     \u001B[38;5;28;01mreturn\u001B[39;00m parser\n",
      "File \u001B[1;32mC:\\ifmo\\MultivarAnalysis\\venv\\lib\\site-packages\\pandas\\io\\parsers\\readers.py:933\u001B[0m, in \u001B[0;36mTextFileReader.__init__\u001B[1;34m(self, f, engine, **kwds)\u001B[0m\n\u001B[0;32m    930\u001B[0m     \u001B[38;5;28mself\u001B[39m\u001B[38;5;241m.\u001B[39moptions[\u001B[38;5;124m\"\u001B[39m\u001B[38;5;124mhas_index_names\u001B[39m\u001B[38;5;124m\"\u001B[39m] \u001B[38;5;241m=\u001B[39m kwds[\u001B[38;5;124m\"\u001B[39m\u001B[38;5;124mhas_index_names\u001B[39m\u001B[38;5;124m\"\u001B[39m]\n\u001B[0;32m    932\u001B[0m \u001B[38;5;28mself\u001B[39m\u001B[38;5;241m.\u001B[39mhandles: IOHandles \u001B[38;5;241m|\u001B[39m \u001B[38;5;28;01mNone\u001B[39;00m \u001B[38;5;241m=\u001B[39m \u001B[38;5;28;01mNone\u001B[39;00m\n\u001B[1;32m--> 933\u001B[0m \u001B[38;5;28mself\u001B[39m\u001B[38;5;241m.\u001B[39m_engine \u001B[38;5;241m=\u001B[39m \u001B[38;5;28;43mself\u001B[39;49m\u001B[38;5;241;43m.\u001B[39;49m\u001B[43m_make_engine\u001B[49m\u001B[43m(\u001B[49m\u001B[43mf\u001B[49m\u001B[43m,\u001B[49m\u001B[43m \u001B[49m\u001B[38;5;28;43mself\u001B[39;49m\u001B[38;5;241;43m.\u001B[39;49m\u001B[43mengine\u001B[49m\u001B[43m)\u001B[49m\n",
      "File \u001B[1;32mC:\\ifmo\\MultivarAnalysis\\venv\\lib\\site-packages\\pandas\\io\\parsers\\readers.py:1217\u001B[0m, in \u001B[0;36mTextFileReader._make_engine\u001B[1;34m(self, f, engine)\u001B[0m\n\u001B[0;32m   1213\u001B[0m     mode \u001B[38;5;241m=\u001B[39m \u001B[38;5;124m\"\u001B[39m\u001B[38;5;124mrb\u001B[39m\u001B[38;5;124m\"\u001B[39m\n\u001B[0;32m   1214\u001B[0m \u001B[38;5;66;03m# error: No overload variant of \"get_handle\" matches argument types\u001B[39;00m\n\u001B[0;32m   1215\u001B[0m \u001B[38;5;66;03m# \"Union[str, PathLike[str], ReadCsvBuffer[bytes], ReadCsvBuffer[str]]\"\u001B[39;00m\n\u001B[0;32m   1216\u001B[0m \u001B[38;5;66;03m# , \"str\", \"bool\", \"Any\", \"Any\", \"Any\", \"Any\", \"Any\"\u001B[39;00m\n\u001B[1;32m-> 1217\u001B[0m \u001B[38;5;28mself\u001B[39m\u001B[38;5;241m.\u001B[39mhandles \u001B[38;5;241m=\u001B[39m \u001B[43mget_handle\u001B[49m\u001B[43m(\u001B[49m\u001B[43m  \u001B[49m\u001B[38;5;66;43;03m# type: ignore[call-overload]\u001B[39;49;00m\n\u001B[0;32m   1218\u001B[0m \u001B[43m    \u001B[49m\u001B[43mf\u001B[49m\u001B[43m,\u001B[49m\n\u001B[0;32m   1219\u001B[0m \u001B[43m    \u001B[49m\u001B[43mmode\u001B[49m\u001B[43m,\u001B[49m\n\u001B[0;32m   1220\u001B[0m \u001B[43m    \u001B[49m\u001B[43mencoding\u001B[49m\u001B[38;5;241;43m=\u001B[39;49m\u001B[38;5;28;43mself\u001B[39;49m\u001B[38;5;241;43m.\u001B[39;49m\u001B[43moptions\u001B[49m\u001B[38;5;241;43m.\u001B[39;49m\u001B[43mget\u001B[49m\u001B[43m(\u001B[49m\u001B[38;5;124;43m\"\u001B[39;49m\u001B[38;5;124;43mencoding\u001B[39;49m\u001B[38;5;124;43m\"\u001B[39;49m\u001B[43m,\u001B[49m\u001B[43m \u001B[49m\u001B[38;5;28;43;01mNone\u001B[39;49;00m\u001B[43m)\u001B[49m\u001B[43m,\u001B[49m\n\u001B[0;32m   1221\u001B[0m \u001B[43m    \u001B[49m\u001B[43mcompression\u001B[49m\u001B[38;5;241;43m=\u001B[39;49m\u001B[38;5;28;43mself\u001B[39;49m\u001B[38;5;241;43m.\u001B[39;49m\u001B[43moptions\u001B[49m\u001B[38;5;241;43m.\u001B[39;49m\u001B[43mget\u001B[49m\u001B[43m(\u001B[49m\u001B[38;5;124;43m\"\u001B[39;49m\u001B[38;5;124;43mcompression\u001B[39;49m\u001B[38;5;124;43m\"\u001B[39;49m\u001B[43m,\u001B[49m\u001B[43m \u001B[49m\u001B[38;5;28;43;01mNone\u001B[39;49;00m\u001B[43m)\u001B[49m\u001B[43m,\u001B[49m\n\u001B[0;32m   1222\u001B[0m \u001B[43m    \u001B[49m\u001B[43mmemory_map\u001B[49m\u001B[38;5;241;43m=\u001B[39;49m\u001B[38;5;28;43mself\u001B[39;49m\u001B[38;5;241;43m.\u001B[39;49m\u001B[43moptions\u001B[49m\u001B[38;5;241;43m.\u001B[39;49m\u001B[43mget\u001B[49m\u001B[43m(\u001B[49m\u001B[38;5;124;43m\"\u001B[39;49m\u001B[38;5;124;43mmemory_map\u001B[39;49m\u001B[38;5;124;43m\"\u001B[39;49m\u001B[43m,\u001B[49m\u001B[43m \u001B[49m\u001B[38;5;28;43;01mFalse\u001B[39;49;00m\u001B[43m)\u001B[49m\u001B[43m,\u001B[49m\n\u001B[0;32m   1223\u001B[0m \u001B[43m    \u001B[49m\u001B[43mis_text\u001B[49m\u001B[38;5;241;43m=\u001B[39;49m\u001B[43mis_text\u001B[49m\u001B[43m,\u001B[49m\n\u001B[0;32m   1224\u001B[0m \u001B[43m    \u001B[49m\u001B[43merrors\u001B[49m\u001B[38;5;241;43m=\u001B[39;49m\u001B[38;5;28;43mself\u001B[39;49m\u001B[38;5;241;43m.\u001B[39;49m\u001B[43moptions\u001B[49m\u001B[38;5;241;43m.\u001B[39;49m\u001B[43mget\u001B[49m\u001B[43m(\u001B[49m\u001B[38;5;124;43m\"\u001B[39;49m\u001B[38;5;124;43mencoding_errors\u001B[39;49m\u001B[38;5;124;43m\"\u001B[39;49m\u001B[43m,\u001B[49m\u001B[43m \u001B[49m\u001B[38;5;124;43m\"\u001B[39;49m\u001B[38;5;124;43mstrict\u001B[39;49m\u001B[38;5;124;43m\"\u001B[39;49m\u001B[43m)\u001B[49m\u001B[43m,\u001B[49m\n\u001B[0;32m   1225\u001B[0m \u001B[43m    \u001B[49m\u001B[43mstorage_options\u001B[49m\u001B[38;5;241;43m=\u001B[39;49m\u001B[38;5;28;43mself\u001B[39;49m\u001B[38;5;241;43m.\u001B[39;49m\u001B[43moptions\u001B[49m\u001B[38;5;241;43m.\u001B[39;49m\u001B[43mget\u001B[49m\u001B[43m(\u001B[49m\u001B[38;5;124;43m\"\u001B[39;49m\u001B[38;5;124;43mstorage_options\u001B[39;49m\u001B[38;5;124;43m\"\u001B[39;49m\u001B[43m,\u001B[49m\u001B[43m \u001B[49m\u001B[38;5;28;43;01mNone\u001B[39;49;00m\u001B[43m)\u001B[49m\u001B[43m,\u001B[49m\n\u001B[0;32m   1226\u001B[0m \u001B[43m\u001B[49m\u001B[43m)\u001B[49m\n\u001B[0;32m   1227\u001B[0m \u001B[38;5;28;01massert\u001B[39;00m \u001B[38;5;28mself\u001B[39m\u001B[38;5;241m.\u001B[39mhandles \u001B[38;5;129;01mis\u001B[39;00m \u001B[38;5;129;01mnot\u001B[39;00m \u001B[38;5;28;01mNone\u001B[39;00m\n\u001B[0;32m   1228\u001B[0m f \u001B[38;5;241m=\u001B[39m \u001B[38;5;28mself\u001B[39m\u001B[38;5;241m.\u001B[39mhandles\u001B[38;5;241m.\u001B[39mhandle\n",
      "File \u001B[1;32mC:\\ifmo\\MultivarAnalysis\\venv\\lib\\site-packages\\pandas\\io\\common.py:789\u001B[0m, in \u001B[0;36mget_handle\u001B[1;34m(path_or_buf, mode, encoding, compression, memory_map, is_text, errors, storage_options)\u001B[0m\n\u001B[0;32m    784\u001B[0m \u001B[38;5;28;01melif\u001B[39;00m \u001B[38;5;28misinstance\u001B[39m(handle, \u001B[38;5;28mstr\u001B[39m):\n\u001B[0;32m    785\u001B[0m     \u001B[38;5;66;03m# Check whether the filename is to be opened in binary mode.\u001B[39;00m\n\u001B[0;32m    786\u001B[0m     \u001B[38;5;66;03m# Binary mode does not support 'encoding' and 'newline'.\u001B[39;00m\n\u001B[0;32m    787\u001B[0m     \u001B[38;5;28;01mif\u001B[39;00m ioargs\u001B[38;5;241m.\u001B[39mencoding \u001B[38;5;129;01mand\u001B[39;00m \u001B[38;5;124m\"\u001B[39m\u001B[38;5;124mb\u001B[39m\u001B[38;5;124m\"\u001B[39m \u001B[38;5;129;01mnot\u001B[39;00m \u001B[38;5;129;01min\u001B[39;00m ioargs\u001B[38;5;241m.\u001B[39mmode:\n\u001B[0;32m    788\u001B[0m         \u001B[38;5;66;03m# Encoding\u001B[39;00m\n\u001B[1;32m--> 789\u001B[0m         handle \u001B[38;5;241m=\u001B[39m \u001B[38;5;28;43mopen\u001B[39;49m\u001B[43m(\u001B[49m\n\u001B[0;32m    790\u001B[0m \u001B[43m            \u001B[49m\u001B[43mhandle\u001B[49m\u001B[43m,\u001B[49m\n\u001B[0;32m    791\u001B[0m \u001B[43m            \u001B[49m\u001B[43mioargs\u001B[49m\u001B[38;5;241;43m.\u001B[39;49m\u001B[43mmode\u001B[49m\u001B[43m,\u001B[49m\n\u001B[0;32m    792\u001B[0m \u001B[43m            \u001B[49m\u001B[43mencoding\u001B[49m\u001B[38;5;241;43m=\u001B[39;49m\u001B[43mioargs\u001B[49m\u001B[38;5;241;43m.\u001B[39;49m\u001B[43mencoding\u001B[49m\u001B[43m,\u001B[49m\n\u001B[0;32m    793\u001B[0m \u001B[43m            \u001B[49m\u001B[43merrors\u001B[49m\u001B[38;5;241;43m=\u001B[39;49m\u001B[43merrors\u001B[49m\u001B[43m,\u001B[49m\n\u001B[0;32m    794\u001B[0m \u001B[43m            \u001B[49m\u001B[43mnewline\u001B[49m\u001B[38;5;241;43m=\u001B[39;49m\u001B[38;5;124;43m\"\u001B[39;49m\u001B[38;5;124;43m\"\u001B[39;49m\u001B[43m,\u001B[49m\n\u001B[0;32m    795\u001B[0m \u001B[43m        \u001B[49m\u001B[43m)\u001B[49m\n\u001B[0;32m    796\u001B[0m     \u001B[38;5;28;01melse\u001B[39;00m:\n\u001B[0;32m    797\u001B[0m         \u001B[38;5;66;03m# Binary mode\u001B[39;00m\n\u001B[0;32m    798\u001B[0m         handle \u001B[38;5;241m=\u001B[39m \u001B[38;5;28mopen\u001B[39m(handle, ioargs\u001B[38;5;241m.\u001B[39mmode)\n",
      "\u001B[1;31mFileNotFoundError\u001B[0m: [Errno 2] No such file or directory: '/kaggle/input/road-dataset/UiTdata.csv'"
     ]
    }
   ]
  },
  {
   "cell_type": "code",
   "source": [
    "roads.shape"
   ],
   "metadata": {
    "execution": {
     "iopub.status.busy": "2022-10-26T09:55:25.880342Z",
     "iopub.execute_input": "2022-10-26T09:55:25.880722Z",
     "iopub.status.idle": "2022-10-26T09:55:25.890579Z",
     "shell.execute_reply.started": "2022-10-26T09:55:25.880687Z",
     "shell.execute_reply": "2022-10-26T09:55:25.889366Z"
    },
    "trusted": true
   },
   "execution_count": null,
   "outputs": []
  },
  {
   "cell_type": "code",
   "source": [
    "roads.head(20)"
   ],
   "metadata": {
    "execution": {
     "iopub.status.busy": "2022-10-26T09:55:25.891950Z",
     "iopub.execute_input": "2022-10-26T09:55:25.892382Z",
     "iopub.status.idle": "2022-10-26T09:55:25.954455Z",
     "shell.execute_reply.started": "2022-10-26T09:55:25.892343Z",
     "shell.execute_reply": "2022-10-26T09:55:25.953236Z"
    },
    "trusted": true
   },
   "execution_count": null,
   "outputs": []
  },
  {
   "cell_type": "code",
   "source": [
    "roads.columns"
   ],
   "metadata": {
    "execution": {
     "iopub.status.busy": "2022-10-26T09:55:25.957297Z",
     "iopub.execute_input": "2022-10-26T09:55:25.958175Z",
     "iopub.status.idle": "2022-10-26T09:55:25.965994Z",
     "shell.execute_reply.started": "2022-10-26T09:55:25.958101Z",
     "shell.execute_reply": "2022-10-26T09:55:25.964780Z"
    },
    "trusted": true
   },
   "execution_count": null,
   "outputs": []
  },
  {
   "cell_type": "code",
   "source": [
    "roads['lat'] = roads['Latitude'].apply(lambda x: round(x, 4))\n",
    "roads['lon'] = roads['Longitude'].apply(lambda x: round(x, 4))"
   ],
   "metadata": {
    "execution": {
     "iopub.status.busy": "2022-10-26T09:55:25.967295Z",
     "iopub.execute_input": "2022-10-26T09:55:25.967618Z",
     "iopub.status.idle": "2022-10-26T09:55:29.734948Z",
     "shell.execute_reply.started": "2022-10-26T09:55:25.967588Z",
     "shell.execute_reply": "2022-10-26T09:55:29.733910Z"
    },
    "trusted": true
   },
   "execution_count": null,
   "outputs": []
  },
  {
   "cell_type": "code",
   "source": [
    "roads.iloc[2054792,]"
   ],
   "metadata": {
    "execution": {
     "iopub.status.busy": "2022-10-26T09:55:29.736548Z",
     "iopub.execute_input": "2022-10-26T09:55:29.737208Z",
     "iopub.status.idle": "2022-10-26T09:55:29.746437Z",
     "shell.execute_reply.started": "2022-10-26T09:55:29.737168Z",
     "shell.execute_reply": "2022-10-26T09:55:29.744958Z"
    },
    "trusted": true
   },
   "execution_count": null,
   "outputs": []
  },
  {
   "cell_type": "code",
   "source": [
    "roads.dtypes"
   ],
   "metadata": {
    "execution": {
     "iopub.status.busy": "2022-10-25T14:51:54.302368Z",
     "iopub.execute_input": "2022-10-25T14:51:54.302752Z",
     "iopub.status.idle": "2022-10-25T14:51:54.312923Z",
     "shell.execute_reply.started": "2022-10-25T14:51:54.302722Z",
     "shell.execute_reply": "2022-10-25T14:51:54.311762Z"
    },
    "trusted": true
   },
   "execution_count": null,
   "outputs": []
  },
  {
   "cell_type": "code",
   "source": [
    "roads['hour'] = roads['Time(+01:00)'].apply(lambda s: int(s[0:2]))"
   ],
   "metadata": {
    "execution": {
     "iopub.status.busy": "2022-10-25T20:13:14.793013Z",
     "iopub.execute_input": "2022-10-25T20:13:14.793412Z",
     "iopub.status.idle": "2022-10-25T20:13:15.982909Z",
     "shell.execute_reply.started": "2022-10-25T20:13:14.793378Z",
     "shell.execute_reply": "2022-10-25T20:13:15.982009Z"
    },
    "trusted": true
   },
   "execution_count": null,
   "outputs": []
  },
  {
   "cell_type": "code",
   "source": [
    "roads['Latitude'].min(), roads['Latitude'].max(), roads['Longitude'].min(), roads['Longitude'].max(),"
   ],
   "metadata": {
    "execution": {
     "iopub.status.busy": "2022-10-25T21:03:09.257495Z",
     "iopub.execute_input": "2022-10-25T21:03:09.257877Z",
     "iopub.status.idle": "2022-10-25T21:03:09.307429Z",
     "shell.execute_reply.started": "2022-10-25T21:03:09.257846Z",
     "shell.execute_reply": "2022-10-25T21:03:09.306287Z"
    },
    "trusted": true
   },
   "execution_count": null,
   "outputs": []
  },
  {
   "cell_type": "code",
   "source": [
    "roads.groupby(by = ['Date','State','hour']).count()"
   ],
   "metadata": {
    "execution": {
     "iopub.status.busy": "2022-10-25T20:14:10.092033Z",
     "iopub.execute_input": "2022-10-25T20:14:10.092435Z",
     "iopub.status.idle": "2022-10-25T20:14:10.997426Z",
     "shell.execute_reply.started": "2022-10-25T20:14:10.092406Z",
     "shell.execute_reply": "2022-10-25T20:14:10.996409Z"
    },
    "trusted": true
   },
   "execution_count": null,
   "outputs": []
  },
  {
   "cell_type": "code",
   "source": [
    "roads.groupby(by = ['State', 'lat', 'lon']).agg(\n",
    "{\"Ta\":['mean', 'min', 'max'], \"Tsurf\":['mean', 'min', 'max'], 'Water':['mean', 'min', 'max'],\n",
    "\"Speed\": ['mean', 'min', 'max'], \"Height\": ['mean', 'min', 'max'],\n",
    " \"Tdew\": ['mean', 'min', 'max'], \"Friction\": ['mean', 'min', 'max'], \n",
    " \"Date\": lambda x:x.value_counts().index[0],\n",
    " \"Time(+01:00)\": ['min'], \"Direction\": ['min', 'max']\n",
    "}\n",
    "                                               )"
   ],
   "metadata": {
    "execution": {
     "iopub.status.busy": "2022-10-25T20:52:55.158050Z",
     "iopub.execute_input": "2022-10-25T20:52:55.158457Z",
     "iopub.status.idle": "2022-10-25T20:54:11.741308Z",
     "shell.execute_reply.started": "2022-10-25T20:52:55.158422Z",
     "shell.execute_reply": "2022-10-25T20:54:11.739390Z"
    },
    "trusted": true
   },
   "execution_count": null,
   "outputs": []
  },
  {
   "cell_type": "code",
   "source": [
    "roads_processed = roads.groupby(by = ['lat', 'lon', 'State']).agg(\n",
    "{\"Ta\":['mean', 'min', 'max'], \"Tsurf\":['mean', 'min', 'max'], 'Water':['mean', 'min', 'max'],\n",
    "\"Speed\": ['mean', 'min', 'max'], \"Height\": ['mean', 'min', 'max'],\n",
    " \"Tdew\": ['mean', 'min', 'max'], \"Friction\": ['mean', 'min', 'max'], \n",
    " \"Date\": lambda x:x.value_counts().index[0],\n",
    " \"Time(+01:00)\": ['min'], \"Direction\": ['min', 'max']\n",
    "}\n",
    "                                               )\n",
    "roads_processed"
   ],
   "metadata": {
    "_kg_hide-output": false,
    "execution": {
     "iopub.status.busy": "2022-10-25T20:22:17.149285Z",
     "iopub.execute_input": "2022-10-25T20:22:17.149714Z",
     "iopub.status.idle": "2022-10-25T20:23:34.256235Z",
     "shell.execute_reply.started": "2022-10-25T20:22:17.149682Z",
     "shell.execute_reply": "2022-10-25T20:23:34.255469Z"
    },
    "trusted": true
   },
   "execution_count": null,
   "outputs": []
  },
  {
   "cell_type": "code",
   "source": [
    "roads_processed = roads_processed.reset_index()\n",
    "roads_processed.columns = ['_'.join(col) for col in roads_processed.columns]\n",
    "roads_processed"
   ],
   "metadata": {
    "execution": {
     "iopub.status.busy": "2022-10-23T11:09:37.575342Z",
     "iopub.execute_input": "2022-10-23T11:09:37.575883Z",
     "iopub.status.idle": "2022-10-23T11:09:37.751752Z",
     "shell.execute_reply.started": "2022-10-23T11:09:37.575855Z",
     "shell.execute_reply": "2022-10-23T11:09:37.750169Z"
    },
    "trusted": true
   },
   "execution_count": null,
   "outputs": []
  },
  {
   "cell_type": "code",
   "source": [
    "del roads"
   ],
   "metadata": {
    "execution": {
     "iopub.status.busy": "2022-10-23T10:48:55.478463Z",
     "iopub.execute_input": "2022-10-23T10:48:55.478824Z",
     "iopub.status.idle": "2022-10-23T10:48:55.487647Z",
     "shell.execute_reply.started": "2022-10-23T10:48:55.478798Z",
     "shell.execute_reply": "2022-10-23T10:48:55.485694Z"
    },
    "trusted": true
   },
   "execution_count": null,
   "outputs": []
  },
  {
   "cell_type": "code",
   "source": [],
   "metadata": {},
   "execution_count": null,
   "outputs": []
  },
  {
   "cell_type": "code",
   "source": [
    "#roads_processed.to_csv('roads.zip', index=False,\n",
    " #         compression={'method': 'zip', 'archive_name': 'roads.csv'})"
   ],
   "metadata": {
    "execution": {
     "iopub.status.busy": "2022-10-23T11:11:02.532136Z",
     "iopub.execute_input": "2022-10-23T11:11:02.532530Z",
     "iopub.status.idle": "2022-10-23T11:11:08.261080Z",
     "shell.execute_reply.started": "2022-10-23T11:11:02.532504Z",
     "shell.execute_reply": "2022-10-23T11:11:08.259768Z"
    },
    "trusted": true
   },
   "execution_count": null,
   "outputs": []
  },
  {
   "cell_type": "code",
   "source": [
    "#roads_processed.memory_usage(index = True).sum()"
   ],
   "metadata": {
    "execution": {
     "iopub.status.busy": "2022-10-23T10:48:59.770005Z",
     "iopub.execute_input": "2022-10-23T10:48:59.770603Z",
     "iopub.status.idle": "2022-10-23T10:48:59.786701Z",
     "shell.execute_reply.started": "2022-10-23T10:48:59.770567Z",
     "shell.execute_reply": "2022-10-23T10:48:59.785391Z"
    },
    "trusted": true
   },
   "execution_count": null,
   "outputs": []
  },
  {
   "cell_type": "code",
   "source": [
    "#40454543/8/1024/1024"
   ],
   "metadata": {
    "execution": {
     "iopub.status.busy": "2022-10-23T10:48:59.788055Z",
     "iopub.execute_input": "2022-10-23T10:48:59.788442Z",
     "iopub.status.idle": "2022-10-23T10:48:59.797985Z",
     "shell.execute_reply.started": "2022-10-23T10:48:59.788409Z",
     "shell.execute_reply": "2022-10-23T10:48:59.796352Z"
    },
    "trusted": true
   },
   "execution_count": null,
   "outputs": []
  },
  {
   "cell_type": "code",
   "source": [
    "roads = pd.read_csv(\"roads/roads.csv\")\n",
    "sample = pd.read_csv(\"Lab1/sample.csv\")"
   ],
   "metadata": {},
   "execution_count": 4,
   "outputs": []
  },
  {
   "cell_type": "code",
   "source": [
    "import seaborn as sns"
   ],
   "metadata": {
    "execution": {
     "iopub.status.busy": "2022-10-23T10:48:59.799717Z",
     "iopub.execute_input": "2022-10-23T10:48:59.800063Z",
     "iopub.status.idle": "2022-10-23T10:49:00.881051Z",
     "shell.execute_reply.started": "2022-10-23T10:48:59.800037Z",
     "shell.execute_reply": "2022-10-23T10:49:00.879694Z"
    },
    "trusted": true
   },
   "execution_count": null,
   "outputs": []
  },
  {
   "cell_type": "code",
   "source": [
    "np.random.seed(42)\n",
    "roads_sample = roads.sample(1000)"
   ],
   "metadata": {
    "execution": {
     "iopub.status.busy": "2022-10-23T10:49:00.882920Z",
     "iopub.execute_input": "2022-10-23T10:49:00.883326Z",
     "iopub.status.idle": "2022-10-23T10:49:00.966683Z",
     "shell.execute_reply.started": "2022-10-23T10:49:00.883296Z",
     "shell.execute_reply": "2022-10-23T10:49:00.964893Z"
    },
    "trusted": true
   },
   "execution_count": 5,
   "outputs": []
  },
  {
   "cell_type": "code",
   "execution_count": 10,
   "outputs": [
    {
     "data": {
      "text/plain": "    Unnamed: 0.1  Unnamed: 0     lat_     lon_  State_    Ta_mean  Ta_min  \\\n0          93084       93084  68.4317  17.4334       5  12.400000    12.4   \n1          70925       70925  68.4349  17.4320       3   4.711765     4.7   \n2          47174       47174  68.4117  17.4310       6   5.400000     5.4   \n3         163824      163824  68.5296  17.4650       1  12.600000    12.6   \n4          67379       67379  68.4436  17.4176       4  15.133333    10.6   \n5         162750      162750  68.5364  17.4835       4  13.300000    13.3   \n6          15472       15472  68.3995  17.3473       6   3.966667     3.1   \n7         188763      188763  68.5452  17.5004       6  -4.200000    -4.2   \n8         143179      143179  68.4698  17.4912       1   0.400000     0.4   \n9          48319       48319  68.4127  17.4310       6   5.260000     4.0   \n10        128999      128999  68.4412  17.4255       1   2.100000     2.1   \n11         55621       55621  68.4203  17.4331       6   5.600000     5.6   \n12         16103       16103  68.4214  17.3277       1  13.900000    13.9   \n13         17122       17122  68.4035  17.3274       5   4.900000     4.9   \n14        140446      140446  68.4885  17.5222       3   4.850000     1.9   \n15         53729       53729  68.4270  17.4282       3   9.300000     9.3   \n16        100833      100833  68.4428  17.4448       6  -0.610000    -0.8   \n17         59626       59626  68.4303  17.4254       3   8.100000     3.7   \n18        152111      152111  68.4531  17.4783       3   9.086667     3.0   \n19        136913      136913  68.4632  17.4820       2  -1.075000    -5.0   \n20        100087      100087  68.4419  17.4375       5   2.028571    -1.7   \n21         10805       10805  68.3474  17.4960       4  12.300000    12.3   \n22         92201       92201  68.4430  17.4394       3   9.850000     3.3   \n23        123274      123274  68.4485  17.4585       1   0.575000    -5.1   \n24          3235        3235  68.0986  16.3764       4  14.852381    14.8   \n25         29208       29208  68.4200  17.3675       5   2.366667     0.4   \n26         95874       95874  68.4390  17.4385       6   8.744828    -1.1   \n27         83013       83013  68.4250  17.3541       5   5.487500     1.8   \n28        108530      108530  68.4350  17.4016       1   4.400000     4.4   \n29        164072      164072  68.4902  17.5116       6   9.900000     9.9   \n30         89871       89871  68.4376  17.4426       6   7.000000     7.0   \n31        111202      111202  68.4347  17.3946       5   4.898507     0.4   \n32        189501      189501  68.5538  17.5411       3  11.366667    10.5   \n33         89171       89171  68.4326  17.4349       4  10.400000    10.4   \n34         10542       10542  68.3703  17.4279       3  10.100000    10.1   \n35         85131       85131  68.4218  17.3539       5   5.800000     5.8   \n36         80793       80793  68.4208  17.3245       4   8.164706     2.4   \n37         40272       40272  68.4325  17.4238       2  10.100000    10.1   \n38        162317      162317  68.4717  17.4836       2   9.350000     8.1   \n39        144805      144805  68.4648  17.4819       2   7.600000     7.6   \n40        100682      100682  68.4334  17.4252       6   1.555556    -2.8   \n41         39940       39940  68.4066  17.4535       2   7.900000     7.9   \n42        176324      176324  68.5151  17.5575       1  -0.300000    -0.3   \n43        128537      128537  68.4440  17.4417       5   7.200000     7.2   \n44        104696      104696  68.4369  17.3922       2   2.800000     2.8   \n45        102635      102635  68.4359  17.4028       6   3.083333    -0.2   \n46         55736       55736  68.4384  17.4081       5   3.916667    -1.0   \n47        165145      165145  68.4714  17.6917       2  14.100000    14.1   \n48        105691      105691  68.4375  17.4050       5   7.600000     7.6   \n49        192661      192661  68.5492  17.5626       6  13.733333    13.7   \n\n    Ta_max  Tsurf_mean  Tsurf_min  ...  WindGustKmph  cloudcover  humidity  \\\n0     12.4    1.810000       1.75  ...            15          63        79   \n1      4.9    0.167647      -0.15  ...            41          93        89   \n2      5.4   -2.320000      -2.32  ...            48         100        94   \n3     12.6    3.230000       3.23  ...            28           5        76   \n4     16.1    2.903333       1.28  ...            28          68        78   \n5     13.3    2.180000       2.18  ...            14          52        76   \n6      5.7   -6.010000      -7.08  ...            30          26        73   \n7     -4.2  -10.480000     -10.48  ...            22          11        46   \n8      0.4  -10.400000     -10.40  ...            12          37        59   \n9      7.6   -1.257000      -2.37  ...            69         100        91   \n10     2.1   -5.143333      -5.49  ...             8          97        69   \n11     5.6   -2.060000      -2.06  ...            12          83        93   \n12    13.9    3.690000       3.69  ...            23          17        71   \n13     4.9   -1.860000      -1.86  ...            14          26        75   \n14     7.8   -0.625000      -1.53  ...            15          50        75   \n15     9.3   -0.410000      -0.41  ...            19          86        76   \n16     1.1   -5.082000      -8.76  ...            25          97        94   \n17    13.2    1.165000      -4.09  ...            28          42        79   \n18    14.2    1.280000      -7.55  ...            16          52        70   \n19     1.6   -4.742500      -9.09  ...            30          83        90   \n20     5.6   -7.783571     -11.26  ...            21           5        76   \n21    12.3    2.200000       2.20  ...            17         100        90   \n22    16.4    0.920000      -0.72  ...            13          40        72   \n23     6.2   -8.127500     -11.03  ...            29          27        78   \n24    15.2    1.896190       1.60  ...            34          80        71   \n25    10.6   -9.133333     -11.55  ...            27          88        77   \n26    11.6    0.560345      -7.82  ...            15          50        75   \n27     9.4   -5.787500      -9.88  ...            27          94        77   \n28     4.4   -5.670000      -5.67  ...            45          87        81   \n29     9.9    0.325000       0.29  ...            33          73        58   \n30     7.0   -0.325556      -0.66  ...            10          44        72   \n31     9.5   -5.701940     -11.86  ...            15          72        83   \n32    13.1    1.473333       1.20  ...            14          97        87   \n33    10.4    1.590000       1.44  ...            35          91        89   \n34    10.1    1.530000       1.53  ...            17         100        91   \n35     5.8   -3.640000      -3.64  ...            22           3        72   \n36    18.3    0.348824      -5.38  ...             9          76        81   \n37    10.1    1.370000       1.25  ...            21          91        69   \n38    10.6    1.640000       1.32  ...            22          74        73   \n39     7.6    0.560000       0.56  ...            27           4        76   \n40     8.3   -5.058519     -10.51  ...            25          97        94   \n41     7.9   -0.530000      -0.77  ...            21          91        69   \n42    -0.3  -11.130000     -11.14  ...            12          37        59   \n43     7.2   -2.205000      -2.24  ...            12          15        70   \n44     2.8   -4.900000      -4.90  ...            43          91        81   \n45     5.7   -6.186667      -9.29  ...            18          12        69   \n46     8.0   -5.061667     -12.27  ...            12          83        93   \n47    14.1    2.530000       2.53  ...            25          59        69   \n48     7.6   -0.733333      -0.80  ...             5          76        80   \n49    13.8    2.496667       2.36  ...            32          77        59   \n\n    precipMM  pressure  tempC  visibility  winddirDegree  windspeedKmph  \\\n0        0.0      1030     -3          10            182              9   \n1        0.6      1002     -4           6            257             21   \n2        1.2      1020     -5           1            273             26   \n3        0.0      1013     -7          10            105             13   \n4        0.0      1004     -5          10            109             18   \n5        0.0      1013      1          10            156             10   \n6        0.0      1018    -11          10            108             15   \n7        0.0      1016     -5          10            117             10   \n8        0.0      1023     -7          10            135              7   \n9        0.6      1019     -6           0            274             36   \n10       0.0       999     -8          10            115              6   \n11       0.0      1014     -2           7            158              7   \n12       0.0      1006     -2          10            147             14   \n13       0.0      1015      0          10            128              9   \n14       0.0      1013      1          10            157             10   \n15       0.0      1000     -1          10            105             12   \n16       0.2      1016     -6           2            121             12   \n17       0.0      1002     -8          10            102             22   \n18       0.0       999      2          10            125             10   \n19       0.3      1007     -7           4            258             16   \n20       0.0      1006     -7          10             93             11   \n21       0.3      1002      1           6            168             11   \n22       0.0      1007     -4          10            143              8   \n23       0.0      1010    -11          10            101             17   \n24       0.0       999     -5          10            152             16   \n25       0.0      1008    -11          10            100             18   \n26       0.0      1013      1          10            157             10   \n27       0.0      1007    -11          10             99             18   \n28       0.0      1015    -11          10             94             25   \n29       0.0      1009     -2          10            152             18   \n30       0.0      1018     -2          10             94              6   \n31       0.1      1020     -4           5            167              9   \n32       0.2      1022      2           4            157             10   \n33       0.6      1002     -1           3            259             23   \n34       0.4      1002      1           4            166             11   \n35       0.0      1020     -7          10            112             13   \n36       0.0      1015      1          10            152              6   \n37       0.0      1008     -2          10            146             13   \n38       0.0       999     -2          10            111             12   \n39       0.0      1014     -9          10            107             14   \n40       0.2      1016     -6           2            121             12   \n41       0.0      1008     -2          10            146             13   \n42       0.0      1023     -7          10            135              7   \n43       0.0      1019     -3          10             85              7   \n44       0.0      1014    -11          10             93             25   \n45       0.0      1024    -12          10            107             11   \n46       0.0      1014     -2           7            158              7   \n47       0.0      1013      6          10            117             15   \n48       0.0      1007     -4          10            150              3   \n49       0.0      1007     -1          10            156             19   \n\n      location  \n0       narvik  \n1       narvik  \n2       narvik  \n3       oyjord  \n4       narvik  \n5       oyjord  \n6       hakvik  \n7     bjerkvik  \n8       oyjord  \n9       narvik  \n10      narvik  \n11      narvik  \n12      hakvik  \n13      hakvik  \n14      oyjord  \n15      narvik  \n16      narvik  \n17      narvik  \n18      oyjord  \n19      oyjord  \n20      narvik  \n21      narvik  \n22      narvik  \n23      narvik  \n24    kjopsvik  \n25      narvik  \n26      narvik  \n27      hakvik  \n28      narvik  \n29      oyjord  \n30      narvik  \n31      narvik  \n32    bjerkvik  \n33      narvik  \n34      narvik  \n35      hakvik  \n36      hakvik  \n37      narvik  \n38      oyjord  \n39      oyjord  \n40      narvik  \n41      narvik  \n42    bjerkvik  \n43      narvik  \n44      narvik  \n45      narvik  \n46      narvik  \n47  straumsnes  \n48      narvik  \n49    bjerkvik  \n\n[50 rows x 57 columns]",
      "text/html": "<div>\n<style scoped>\n    .dataframe tbody tr th:only-of-type {\n        vertical-align: middle;\n    }\n\n    .dataframe tbody tr th {\n        vertical-align: top;\n    }\n\n    .dataframe thead th {\n        text-align: right;\n    }\n</style>\n<table border=\"1\" class=\"dataframe\">\n  <thead>\n    <tr style=\"text-align: right;\">\n      <th></th>\n      <th>Unnamed: 0.1</th>\n      <th>Unnamed: 0</th>\n      <th>lat_</th>\n      <th>lon_</th>\n      <th>State_</th>\n      <th>Ta_mean</th>\n      <th>Ta_min</th>\n      <th>Ta_max</th>\n      <th>Tsurf_mean</th>\n      <th>Tsurf_min</th>\n      <th>...</th>\n      <th>WindGustKmph</th>\n      <th>cloudcover</th>\n      <th>humidity</th>\n      <th>precipMM</th>\n      <th>pressure</th>\n      <th>tempC</th>\n      <th>visibility</th>\n      <th>winddirDegree</th>\n      <th>windspeedKmph</th>\n      <th>location</th>\n    </tr>\n  </thead>\n  <tbody>\n    <tr>\n      <th>0</th>\n      <td>93084</td>\n      <td>93084</td>\n      <td>68.4317</td>\n      <td>17.4334</td>\n      <td>5</td>\n      <td>12.400000</td>\n      <td>12.4</td>\n      <td>12.4</td>\n      <td>1.810000</td>\n      <td>1.75</td>\n      <td>...</td>\n      <td>15</td>\n      <td>63</td>\n      <td>79</td>\n      <td>0.0</td>\n      <td>1030</td>\n      <td>-3</td>\n      <td>10</td>\n      <td>182</td>\n      <td>9</td>\n      <td>narvik</td>\n    </tr>\n    <tr>\n      <th>1</th>\n      <td>70925</td>\n      <td>70925</td>\n      <td>68.4349</td>\n      <td>17.4320</td>\n      <td>3</td>\n      <td>4.711765</td>\n      <td>4.7</td>\n      <td>4.9</td>\n      <td>0.167647</td>\n      <td>-0.15</td>\n      <td>...</td>\n      <td>41</td>\n      <td>93</td>\n      <td>89</td>\n      <td>0.6</td>\n      <td>1002</td>\n      <td>-4</td>\n      <td>6</td>\n      <td>257</td>\n      <td>21</td>\n      <td>narvik</td>\n    </tr>\n    <tr>\n      <th>2</th>\n      <td>47174</td>\n      <td>47174</td>\n      <td>68.4117</td>\n      <td>17.4310</td>\n      <td>6</td>\n      <td>5.400000</td>\n      <td>5.4</td>\n      <td>5.4</td>\n      <td>-2.320000</td>\n      <td>-2.32</td>\n      <td>...</td>\n      <td>48</td>\n      <td>100</td>\n      <td>94</td>\n      <td>1.2</td>\n      <td>1020</td>\n      <td>-5</td>\n      <td>1</td>\n      <td>273</td>\n      <td>26</td>\n      <td>narvik</td>\n    </tr>\n    <tr>\n      <th>3</th>\n      <td>163824</td>\n      <td>163824</td>\n      <td>68.5296</td>\n      <td>17.4650</td>\n      <td>1</td>\n      <td>12.600000</td>\n      <td>12.6</td>\n      <td>12.6</td>\n      <td>3.230000</td>\n      <td>3.23</td>\n      <td>...</td>\n      <td>28</td>\n      <td>5</td>\n      <td>76</td>\n      <td>0.0</td>\n      <td>1013</td>\n      <td>-7</td>\n      <td>10</td>\n      <td>105</td>\n      <td>13</td>\n      <td>oyjord</td>\n    </tr>\n    <tr>\n      <th>4</th>\n      <td>67379</td>\n      <td>67379</td>\n      <td>68.4436</td>\n      <td>17.4176</td>\n      <td>4</td>\n      <td>15.133333</td>\n      <td>10.6</td>\n      <td>16.1</td>\n      <td>2.903333</td>\n      <td>1.28</td>\n      <td>...</td>\n      <td>28</td>\n      <td>68</td>\n      <td>78</td>\n      <td>0.0</td>\n      <td>1004</td>\n      <td>-5</td>\n      <td>10</td>\n      <td>109</td>\n      <td>18</td>\n      <td>narvik</td>\n    </tr>\n    <tr>\n      <th>5</th>\n      <td>162750</td>\n      <td>162750</td>\n      <td>68.5364</td>\n      <td>17.4835</td>\n      <td>4</td>\n      <td>13.300000</td>\n      <td>13.3</td>\n      <td>13.3</td>\n      <td>2.180000</td>\n      <td>2.18</td>\n      <td>...</td>\n      <td>14</td>\n      <td>52</td>\n      <td>76</td>\n      <td>0.0</td>\n      <td>1013</td>\n      <td>1</td>\n      <td>10</td>\n      <td>156</td>\n      <td>10</td>\n      <td>oyjord</td>\n    </tr>\n    <tr>\n      <th>6</th>\n      <td>15472</td>\n      <td>15472</td>\n      <td>68.3995</td>\n      <td>17.3473</td>\n      <td>6</td>\n      <td>3.966667</td>\n      <td>3.1</td>\n      <td>5.7</td>\n      <td>-6.010000</td>\n      <td>-7.08</td>\n      <td>...</td>\n      <td>30</td>\n      <td>26</td>\n      <td>73</td>\n      <td>0.0</td>\n      <td>1018</td>\n      <td>-11</td>\n      <td>10</td>\n      <td>108</td>\n      <td>15</td>\n      <td>hakvik</td>\n    </tr>\n    <tr>\n      <th>7</th>\n      <td>188763</td>\n      <td>188763</td>\n      <td>68.5452</td>\n      <td>17.5004</td>\n      <td>6</td>\n      <td>-4.200000</td>\n      <td>-4.2</td>\n      <td>-4.2</td>\n      <td>-10.480000</td>\n      <td>-10.48</td>\n      <td>...</td>\n      <td>22</td>\n      <td>11</td>\n      <td>46</td>\n      <td>0.0</td>\n      <td>1016</td>\n      <td>-5</td>\n      <td>10</td>\n      <td>117</td>\n      <td>10</td>\n      <td>bjerkvik</td>\n    </tr>\n    <tr>\n      <th>8</th>\n      <td>143179</td>\n      <td>143179</td>\n      <td>68.4698</td>\n      <td>17.4912</td>\n      <td>1</td>\n      <td>0.400000</td>\n      <td>0.4</td>\n      <td>0.4</td>\n      <td>-10.400000</td>\n      <td>-10.40</td>\n      <td>...</td>\n      <td>12</td>\n      <td>37</td>\n      <td>59</td>\n      <td>0.0</td>\n      <td>1023</td>\n      <td>-7</td>\n      <td>10</td>\n      <td>135</td>\n      <td>7</td>\n      <td>oyjord</td>\n    </tr>\n    <tr>\n      <th>9</th>\n      <td>48319</td>\n      <td>48319</td>\n      <td>68.4127</td>\n      <td>17.4310</td>\n      <td>6</td>\n      <td>5.260000</td>\n      <td>4.0</td>\n      <td>7.6</td>\n      <td>-1.257000</td>\n      <td>-2.37</td>\n      <td>...</td>\n      <td>69</td>\n      <td>100</td>\n      <td>91</td>\n      <td>0.6</td>\n      <td>1019</td>\n      <td>-6</td>\n      <td>0</td>\n      <td>274</td>\n      <td>36</td>\n      <td>narvik</td>\n    </tr>\n    <tr>\n      <th>10</th>\n      <td>128999</td>\n      <td>128999</td>\n      <td>68.4412</td>\n      <td>17.4255</td>\n      <td>1</td>\n      <td>2.100000</td>\n      <td>2.1</td>\n      <td>2.1</td>\n      <td>-5.143333</td>\n      <td>-5.49</td>\n      <td>...</td>\n      <td>8</td>\n      <td>97</td>\n      <td>69</td>\n      <td>0.0</td>\n      <td>999</td>\n      <td>-8</td>\n      <td>10</td>\n      <td>115</td>\n      <td>6</td>\n      <td>narvik</td>\n    </tr>\n    <tr>\n      <th>11</th>\n      <td>55621</td>\n      <td>55621</td>\n      <td>68.4203</td>\n      <td>17.4331</td>\n      <td>6</td>\n      <td>5.600000</td>\n      <td>5.6</td>\n      <td>5.6</td>\n      <td>-2.060000</td>\n      <td>-2.06</td>\n      <td>...</td>\n      <td>12</td>\n      <td>83</td>\n      <td>93</td>\n      <td>0.0</td>\n      <td>1014</td>\n      <td>-2</td>\n      <td>7</td>\n      <td>158</td>\n      <td>7</td>\n      <td>narvik</td>\n    </tr>\n    <tr>\n      <th>12</th>\n      <td>16103</td>\n      <td>16103</td>\n      <td>68.4214</td>\n      <td>17.3277</td>\n      <td>1</td>\n      <td>13.900000</td>\n      <td>13.9</td>\n      <td>13.9</td>\n      <td>3.690000</td>\n      <td>3.69</td>\n      <td>...</td>\n      <td>23</td>\n      <td>17</td>\n      <td>71</td>\n      <td>0.0</td>\n      <td>1006</td>\n      <td>-2</td>\n      <td>10</td>\n      <td>147</td>\n      <td>14</td>\n      <td>hakvik</td>\n    </tr>\n    <tr>\n      <th>13</th>\n      <td>17122</td>\n      <td>17122</td>\n      <td>68.4035</td>\n      <td>17.3274</td>\n      <td>5</td>\n      <td>4.900000</td>\n      <td>4.9</td>\n      <td>4.9</td>\n      <td>-1.860000</td>\n      <td>-1.86</td>\n      <td>...</td>\n      <td>14</td>\n      <td>26</td>\n      <td>75</td>\n      <td>0.0</td>\n      <td>1015</td>\n      <td>0</td>\n      <td>10</td>\n      <td>128</td>\n      <td>9</td>\n      <td>hakvik</td>\n    </tr>\n    <tr>\n      <th>14</th>\n      <td>140446</td>\n      <td>140446</td>\n      <td>68.4885</td>\n      <td>17.5222</td>\n      <td>3</td>\n      <td>4.850000</td>\n      <td>1.9</td>\n      <td>7.8</td>\n      <td>-0.625000</td>\n      <td>-1.53</td>\n      <td>...</td>\n      <td>15</td>\n      <td>50</td>\n      <td>75</td>\n      <td>0.0</td>\n      <td>1013</td>\n      <td>1</td>\n      <td>10</td>\n      <td>157</td>\n      <td>10</td>\n      <td>oyjord</td>\n    </tr>\n    <tr>\n      <th>15</th>\n      <td>53729</td>\n      <td>53729</td>\n      <td>68.4270</td>\n      <td>17.4282</td>\n      <td>3</td>\n      <td>9.300000</td>\n      <td>9.3</td>\n      <td>9.3</td>\n      <td>-0.410000</td>\n      <td>-0.41</td>\n      <td>...</td>\n      <td>19</td>\n      <td>86</td>\n      <td>76</td>\n      <td>0.0</td>\n      <td>1000</td>\n      <td>-1</td>\n      <td>10</td>\n      <td>105</td>\n      <td>12</td>\n      <td>narvik</td>\n    </tr>\n    <tr>\n      <th>16</th>\n      <td>100833</td>\n      <td>100833</td>\n      <td>68.4428</td>\n      <td>17.4448</td>\n      <td>6</td>\n      <td>-0.610000</td>\n      <td>-0.8</td>\n      <td>1.1</td>\n      <td>-5.082000</td>\n      <td>-8.76</td>\n      <td>...</td>\n      <td>25</td>\n      <td>97</td>\n      <td>94</td>\n      <td>0.2</td>\n      <td>1016</td>\n      <td>-6</td>\n      <td>2</td>\n      <td>121</td>\n      <td>12</td>\n      <td>narvik</td>\n    </tr>\n    <tr>\n      <th>17</th>\n      <td>59626</td>\n      <td>59626</td>\n      <td>68.4303</td>\n      <td>17.4254</td>\n      <td>3</td>\n      <td>8.100000</td>\n      <td>3.7</td>\n      <td>13.2</td>\n      <td>1.165000</td>\n      <td>-4.09</td>\n      <td>...</td>\n      <td>28</td>\n      <td>42</td>\n      <td>79</td>\n      <td>0.0</td>\n      <td>1002</td>\n      <td>-8</td>\n      <td>10</td>\n      <td>102</td>\n      <td>22</td>\n      <td>narvik</td>\n    </tr>\n    <tr>\n      <th>18</th>\n      <td>152111</td>\n      <td>152111</td>\n      <td>68.4531</td>\n      <td>17.4783</td>\n      <td>3</td>\n      <td>9.086667</td>\n      <td>3.0</td>\n      <td>14.2</td>\n      <td>1.280000</td>\n      <td>-7.55</td>\n      <td>...</td>\n      <td>16</td>\n      <td>52</td>\n      <td>70</td>\n      <td>0.0</td>\n      <td>999</td>\n      <td>2</td>\n      <td>10</td>\n      <td>125</td>\n      <td>10</td>\n      <td>oyjord</td>\n    </tr>\n    <tr>\n      <th>19</th>\n      <td>136913</td>\n      <td>136913</td>\n      <td>68.4632</td>\n      <td>17.4820</td>\n      <td>2</td>\n      <td>-1.075000</td>\n      <td>-5.0</td>\n      <td>1.6</td>\n      <td>-4.742500</td>\n      <td>-9.09</td>\n      <td>...</td>\n      <td>30</td>\n      <td>83</td>\n      <td>90</td>\n      <td>0.3</td>\n      <td>1007</td>\n      <td>-7</td>\n      <td>4</td>\n      <td>258</td>\n      <td>16</td>\n      <td>oyjord</td>\n    </tr>\n    <tr>\n      <th>20</th>\n      <td>100087</td>\n      <td>100087</td>\n      <td>68.4419</td>\n      <td>17.4375</td>\n      <td>5</td>\n      <td>2.028571</td>\n      <td>-1.7</td>\n      <td>5.6</td>\n      <td>-7.783571</td>\n      <td>-11.26</td>\n      <td>...</td>\n      <td>21</td>\n      <td>5</td>\n      <td>76</td>\n      <td>0.0</td>\n      <td>1006</td>\n      <td>-7</td>\n      <td>10</td>\n      <td>93</td>\n      <td>11</td>\n      <td>narvik</td>\n    </tr>\n    <tr>\n      <th>21</th>\n      <td>10805</td>\n      <td>10805</td>\n      <td>68.3474</td>\n      <td>17.4960</td>\n      <td>4</td>\n      <td>12.300000</td>\n      <td>12.3</td>\n      <td>12.3</td>\n      <td>2.200000</td>\n      <td>2.20</td>\n      <td>...</td>\n      <td>17</td>\n      <td>100</td>\n      <td>90</td>\n      <td>0.3</td>\n      <td>1002</td>\n      <td>1</td>\n      <td>6</td>\n      <td>168</td>\n      <td>11</td>\n      <td>narvik</td>\n    </tr>\n    <tr>\n      <th>22</th>\n      <td>92201</td>\n      <td>92201</td>\n      <td>68.4430</td>\n      <td>17.4394</td>\n      <td>3</td>\n      <td>9.850000</td>\n      <td>3.3</td>\n      <td>16.4</td>\n      <td>0.920000</td>\n      <td>-0.72</td>\n      <td>...</td>\n      <td>13</td>\n      <td>40</td>\n      <td>72</td>\n      <td>0.0</td>\n      <td>1007</td>\n      <td>-4</td>\n      <td>10</td>\n      <td>143</td>\n      <td>8</td>\n      <td>narvik</td>\n    </tr>\n    <tr>\n      <th>23</th>\n      <td>123274</td>\n      <td>123274</td>\n      <td>68.4485</td>\n      <td>17.4585</td>\n      <td>1</td>\n      <td>0.575000</td>\n      <td>-5.1</td>\n      <td>6.2</td>\n      <td>-8.127500</td>\n      <td>-11.03</td>\n      <td>...</td>\n      <td>29</td>\n      <td>27</td>\n      <td>78</td>\n      <td>0.0</td>\n      <td>1010</td>\n      <td>-11</td>\n      <td>10</td>\n      <td>101</td>\n      <td>17</td>\n      <td>narvik</td>\n    </tr>\n    <tr>\n      <th>24</th>\n      <td>3235</td>\n      <td>3235</td>\n      <td>68.0986</td>\n      <td>16.3764</td>\n      <td>4</td>\n      <td>14.852381</td>\n      <td>14.8</td>\n      <td>15.2</td>\n      <td>1.896190</td>\n      <td>1.60</td>\n      <td>...</td>\n      <td>34</td>\n      <td>80</td>\n      <td>71</td>\n      <td>0.0</td>\n      <td>999</td>\n      <td>-5</td>\n      <td>10</td>\n      <td>152</td>\n      <td>16</td>\n      <td>kjopsvik</td>\n    </tr>\n    <tr>\n      <th>25</th>\n      <td>29208</td>\n      <td>29208</td>\n      <td>68.4200</td>\n      <td>17.3675</td>\n      <td>5</td>\n      <td>2.366667</td>\n      <td>0.4</td>\n      <td>10.6</td>\n      <td>-9.133333</td>\n      <td>-11.55</td>\n      <td>...</td>\n      <td>27</td>\n      <td>88</td>\n      <td>77</td>\n      <td>0.0</td>\n      <td>1008</td>\n      <td>-11</td>\n      <td>10</td>\n      <td>100</td>\n      <td>18</td>\n      <td>narvik</td>\n    </tr>\n    <tr>\n      <th>26</th>\n      <td>95874</td>\n      <td>95874</td>\n      <td>68.4390</td>\n      <td>17.4385</td>\n      <td>6</td>\n      <td>8.744828</td>\n      <td>-1.1</td>\n      <td>11.6</td>\n      <td>0.560345</td>\n      <td>-7.82</td>\n      <td>...</td>\n      <td>15</td>\n      <td>50</td>\n      <td>75</td>\n      <td>0.0</td>\n      <td>1013</td>\n      <td>1</td>\n      <td>10</td>\n      <td>157</td>\n      <td>10</td>\n      <td>narvik</td>\n    </tr>\n    <tr>\n      <th>27</th>\n      <td>83013</td>\n      <td>83013</td>\n      <td>68.4250</td>\n      <td>17.3541</td>\n      <td>5</td>\n      <td>5.487500</td>\n      <td>1.8</td>\n      <td>9.4</td>\n      <td>-5.787500</td>\n      <td>-9.88</td>\n      <td>...</td>\n      <td>27</td>\n      <td>94</td>\n      <td>77</td>\n      <td>0.0</td>\n      <td>1007</td>\n      <td>-11</td>\n      <td>10</td>\n      <td>99</td>\n      <td>18</td>\n      <td>hakvik</td>\n    </tr>\n    <tr>\n      <th>28</th>\n      <td>108530</td>\n      <td>108530</td>\n      <td>68.4350</td>\n      <td>17.4016</td>\n      <td>1</td>\n      <td>4.400000</td>\n      <td>4.4</td>\n      <td>4.4</td>\n      <td>-5.670000</td>\n      <td>-5.67</td>\n      <td>...</td>\n      <td>45</td>\n      <td>87</td>\n      <td>81</td>\n      <td>0.0</td>\n      <td>1015</td>\n      <td>-11</td>\n      <td>10</td>\n      <td>94</td>\n      <td>25</td>\n      <td>narvik</td>\n    </tr>\n    <tr>\n      <th>29</th>\n      <td>164072</td>\n      <td>164072</td>\n      <td>68.4902</td>\n      <td>17.5116</td>\n      <td>6</td>\n      <td>9.900000</td>\n      <td>9.9</td>\n      <td>9.9</td>\n      <td>0.325000</td>\n      <td>0.29</td>\n      <td>...</td>\n      <td>33</td>\n      <td>73</td>\n      <td>58</td>\n      <td>0.0</td>\n      <td>1009</td>\n      <td>-2</td>\n      <td>10</td>\n      <td>152</td>\n      <td>18</td>\n      <td>oyjord</td>\n    </tr>\n    <tr>\n      <th>30</th>\n      <td>89871</td>\n      <td>89871</td>\n      <td>68.4376</td>\n      <td>17.4426</td>\n      <td>6</td>\n      <td>7.000000</td>\n      <td>7.0</td>\n      <td>7.0</td>\n      <td>-0.325556</td>\n      <td>-0.66</td>\n      <td>...</td>\n      <td>10</td>\n      <td>44</td>\n      <td>72</td>\n      <td>0.0</td>\n      <td>1018</td>\n      <td>-2</td>\n      <td>10</td>\n      <td>94</td>\n      <td>6</td>\n      <td>narvik</td>\n    </tr>\n    <tr>\n      <th>31</th>\n      <td>111202</td>\n      <td>111202</td>\n      <td>68.4347</td>\n      <td>17.3946</td>\n      <td>5</td>\n      <td>4.898507</td>\n      <td>0.4</td>\n      <td>9.5</td>\n      <td>-5.701940</td>\n      <td>-11.86</td>\n      <td>...</td>\n      <td>15</td>\n      <td>72</td>\n      <td>83</td>\n      <td>0.1</td>\n      <td>1020</td>\n      <td>-4</td>\n      <td>5</td>\n      <td>167</td>\n      <td>9</td>\n      <td>narvik</td>\n    </tr>\n    <tr>\n      <th>32</th>\n      <td>189501</td>\n      <td>189501</td>\n      <td>68.5538</td>\n      <td>17.5411</td>\n      <td>3</td>\n      <td>11.366667</td>\n      <td>10.5</td>\n      <td>13.1</td>\n      <td>1.473333</td>\n      <td>1.20</td>\n      <td>...</td>\n      <td>14</td>\n      <td>97</td>\n      <td>87</td>\n      <td>0.2</td>\n      <td>1022</td>\n      <td>2</td>\n      <td>4</td>\n      <td>157</td>\n      <td>10</td>\n      <td>bjerkvik</td>\n    </tr>\n    <tr>\n      <th>33</th>\n      <td>89171</td>\n      <td>89171</td>\n      <td>68.4326</td>\n      <td>17.4349</td>\n      <td>4</td>\n      <td>10.400000</td>\n      <td>10.4</td>\n      <td>10.4</td>\n      <td>1.590000</td>\n      <td>1.44</td>\n      <td>...</td>\n      <td>35</td>\n      <td>91</td>\n      <td>89</td>\n      <td>0.6</td>\n      <td>1002</td>\n      <td>-1</td>\n      <td>3</td>\n      <td>259</td>\n      <td>23</td>\n      <td>narvik</td>\n    </tr>\n    <tr>\n      <th>34</th>\n      <td>10542</td>\n      <td>10542</td>\n      <td>68.3703</td>\n      <td>17.4279</td>\n      <td>3</td>\n      <td>10.100000</td>\n      <td>10.1</td>\n      <td>10.1</td>\n      <td>1.530000</td>\n      <td>1.53</td>\n      <td>...</td>\n      <td>17</td>\n      <td>100</td>\n      <td>91</td>\n      <td>0.4</td>\n      <td>1002</td>\n      <td>1</td>\n      <td>4</td>\n      <td>166</td>\n      <td>11</td>\n      <td>narvik</td>\n    </tr>\n    <tr>\n      <th>35</th>\n      <td>85131</td>\n      <td>85131</td>\n      <td>68.4218</td>\n      <td>17.3539</td>\n      <td>5</td>\n      <td>5.800000</td>\n      <td>5.8</td>\n      <td>5.8</td>\n      <td>-3.640000</td>\n      <td>-3.64</td>\n      <td>...</td>\n      <td>22</td>\n      <td>3</td>\n      <td>72</td>\n      <td>0.0</td>\n      <td>1020</td>\n      <td>-7</td>\n      <td>10</td>\n      <td>112</td>\n      <td>13</td>\n      <td>hakvik</td>\n    </tr>\n    <tr>\n      <th>36</th>\n      <td>80793</td>\n      <td>80793</td>\n      <td>68.4208</td>\n      <td>17.3245</td>\n      <td>4</td>\n      <td>8.164706</td>\n      <td>2.4</td>\n      <td>18.3</td>\n      <td>0.348824</td>\n      <td>-5.38</td>\n      <td>...</td>\n      <td>9</td>\n      <td>76</td>\n      <td>81</td>\n      <td>0.0</td>\n      <td>1015</td>\n      <td>1</td>\n      <td>10</td>\n      <td>152</td>\n      <td>6</td>\n      <td>hakvik</td>\n    </tr>\n    <tr>\n      <th>37</th>\n      <td>40272</td>\n      <td>40272</td>\n      <td>68.4325</td>\n      <td>17.4238</td>\n      <td>2</td>\n      <td>10.100000</td>\n      <td>10.1</td>\n      <td>10.1</td>\n      <td>1.370000</td>\n      <td>1.25</td>\n      <td>...</td>\n      <td>21</td>\n      <td>91</td>\n      <td>69</td>\n      <td>0.0</td>\n      <td>1008</td>\n      <td>-2</td>\n      <td>10</td>\n      <td>146</td>\n      <td>13</td>\n      <td>narvik</td>\n    </tr>\n    <tr>\n      <th>38</th>\n      <td>162317</td>\n      <td>162317</td>\n      <td>68.4717</td>\n      <td>17.4836</td>\n      <td>2</td>\n      <td>9.350000</td>\n      <td>8.1</td>\n      <td>10.6</td>\n      <td>1.640000</td>\n      <td>1.32</td>\n      <td>...</td>\n      <td>22</td>\n      <td>74</td>\n      <td>73</td>\n      <td>0.0</td>\n      <td>999</td>\n      <td>-2</td>\n      <td>10</td>\n      <td>111</td>\n      <td>12</td>\n      <td>oyjord</td>\n    </tr>\n    <tr>\n      <th>39</th>\n      <td>144805</td>\n      <td>144805</td>\n      <td>68.4648</td>\n      <td>17.4819</td>\n      <td>2</td>\n      <td>7.600000</td>\n      <td>7.6</td>\n      <td>7.6</td>\n      <td>0.560000</td>\n      <td>0.56</td>\n      <td>...</td>\n      <td>27</td>\n      <td>4</td>\n      <td>76</td>\n      <td>0.0</td>\n      <td>1014</td>\n      <td>-9</td>\n      <td>10</td>\n      <td>107</td>\n      <td>14</td>\n      <td>oyjord</td>\n    </tr>\n    <tr>\n      <th>40</th>\n      <td>100682</td>\n      <td>100682</td>\n      <td>68.4334</td>\n      <td>17.4252</td>\n      <td>6</td>\n      <td>1.555556</td>\n      <td>-2.8</td>\n      <td>8.3</td>\n      <td>-5.058519</td>\n      <td>-10.51</td>\n      <td>...</td>\n      <td>25</td>\n      <td>97</td>\n      <td>94</td>\n      <td>0.2</td>\n      <td>1016</td>\n      <td>-6</td>\n      <td>2</td>\n      <td>121</td>\n      <td>12</td>\n      <td>narvik</td>\n    </tr>\n    <tr>\n      <th>41</th>\n      <td>39940</td>\n      <td>39940</td>\n      <td>68.4066</td>\n      <td>17.4535</td>\n      <td>2</td>\n      <td>7.900000</td>\n      <td>7.9</td>\n      <td>7.9</td>\n      <td>-0.530000</td>\n      <td>-0.77</td>\n      <td>...</td>\n      <td>21</td>\n      <td>91</td>\n      <td>69</td>\n      <td>0.0</td>\n      <td>1008</td>\n      <td>-2</td>\n      <td>10</td>\n      <td>146</td>\n      <td>13</td>\n      <td>narvik</td>\n    </tr>\n    <tr>\n      <th>42</th>\n      <td>176324</td>\n      <td>176324</td>\n      <td>68.5151</td>\n      <td>17.5575</td>\n      <td>1</td>\n      <td>-0.300000</td>\n      <td>-0.3</td>\n      <td>-0.3</td>\n      <td>-11.130000</td>\n      <td>-11.14</td>\n      <td>...</td>\n      <td>12</td>\n      <td>37</td>\n      <td>59</td>\n      <td>0.0</td>\n      <td>1023</td>\n      <td>-7</td>\n      <td>10</td>\n      <td>135</td>\n      <td>7</td>\n      <td>bjerkvik</td>\n    </tr>\n    <tr>\n      <th>43</th>\n      <td>128537</td>\n      <td>128537</td>\n      <td>68.4440</td>\n      <td>17.4417</td>\n      <td>5</td>\n      <td>7.200000</td>\n      <td>7.2</td>\n      <td>7.2</td>\n      <td>-2.205000</td>\n      <td>-2.24</td>\n      <td>...</td>\n      <td>12</td>\n      <td>15</td>\n      <td>70</td>\n      <td>0.0</td>\n      <td>1019</td>\n      <td>-3</td>\n      <td>10</td>\n      <td>85</td>\n      <td>7</td>\n      <td>narvik</td>\n    </tr>\n    <tr>\n      <th>44</th>\n      <td>104696</td>\n      <td>104696</td>\n      <td>68.4369</td>\n      <td>17.3922</td>\n      <td>2</td>\n      <td>2.800000</td>\n      <td>2.8</td>\n      <td>2.8</td>\n      <td>-4.900000</td>\n      <td>-4.90</td>\n      <td>...</td>\n      <td>43</td>\n      <td>91</td>\n      <td>81</td>\n      <td>0.0</td>\n      <td>1014</td>\n      <td>-11</td>\n      <td>10</td>\n      <td>93</td>\n      <td>25</td>\n      <td>narvik</td>\n    </tr>\n    <tr>\n      <th>45</th>\n      <td>102635</td>\n      <td>102635</td>\n      <td>68.4359</td>\n      <td>17.4028</td>\n      <td>6</td>\n      <td>3.083333</td>\n      <td>-0.2</td>\n      <td>5.7</td>\n      <td>-6.186667</td>\n      <td>-9.29</td>\n      <td>...</td>\n      <td>18</td>\n      <td>12</td>\n      <td>69</td>\n      <td>0.0</td>\n      <td>1024</td>\n      <td>-12</td>\n      <td>10</td>\n      <td>107</td>\n      <td>11</td>\n      <td>narvik</td>\n    </tr>\n    <tr>\n      <th>46</th>\n      <td>55736</td>\n      <td>55736</td>\n      <td>68.4384</td>\n      <td>17.4081</td>\n      <td>5</td>\n      <td>3.916667</td>\n      <td>-1.0</td>\n      <td>8.0</td>\n      <td>-5.061667</td>\n      <td>-12.27</td>\n      <td>...</td>\n      <td>12</td>\n      <td>83</td>\n      <td>93</td>\n      <td>0.0</td>\n      <td>1014</td>\n      <td>-2</td>\n      <td>7</td>\n      <td>158</td>\n      <td>7</td>\n      <td>narvik</td>\n    </tr>\n    <tr>\n      <th>47</th>\n      <td>165145</td>\n      <td>165145</td>\n      <td>68.4714</td>\n      <td>17.6917</td>\n      <td>2</td>\n      <td>14.100000</td>\n      <td>14.1</td>\n      <td>14.1</td>\n      <td>2.530000</td>\n      <td>2.53</td>\n      <td>...</td>\n      <td>25</td>\n      <td>59</td>\n      <td>69</td>\n      <td>0.0</td>\n      <td>1013</td>\n      <td>6</td>\n      <td>10</td>\n      <td>117</td>\n      <td>15</td>\n      <td>straumsnes</td>\n    </tr>\n    <tr>\n      <th>48</th>\n      <td>105691</td>\n      <td>105691</td>\n      <td>68.4375</td>\n      <td>17.4050</td>\n      <td>5</td>\n      <td>7.600000</td>\n      <td>7.6</td>\n      <td>7.6</td>\n      <td>-0.733333</td>\n      <td>-0.80</td>\n      <td>...</td>\n      <td>5</td>\n      <td>76</td>\n      <td>80</td>\n      <td>0.0</td>\n      <td>1007</td>\n      <td>-4</td>\n      <td>10</td>\n      <td>150</td>\n      <td>3</td>\n      <td>narvik</td>\n    </tr>\n    <tr>\n      <th>49</th>\n      <td>192661</td>\n      <td>192661</td>\n      <td>68.5492</td>\n      <td>17.5626</td>\n      <td>6</td>\n      <td>13.733333</td>\n      <td>13.7</td>\n      <td>13.8</td>\n      <td>2.496667</td>\n      <td>2.36</td>\n      <td>...</td>\n      <td>32</td>\n      <td>77</td>\n      <td>59</td>\n      <td>0.0</td>\n      <td>1007</td>\n      <td>-1</td>\n      <td>10</td>\n      <td>156</td>\n      <td>19</td>\n      <td>bjerkvik</td>\n    </tr>\n  </tbody>\n</table>\n<p>50 rows × 57 columns</p>\n</div>"
     },
     "execution_count": 10,
     "metadata": {},
     "output_type": "execute_result"
    }
   ],
   "source": [
    "sample.sort_index().head(50)"
   ],
   "metadata": {
    "collapsed": false
   }
  },
  {
   "cell_type": "code",
   "execution_count": 11,
   "outputs": [
    {
     "data": {
      "text/plain": "          lat_     lon_  State_    Ta_mean  Ta_min  Ta_max  Tsurf_mean  \\\n70     68.0936  16.3699       2  13.300000    13.3    13.3    2.606667   \n573    68.0947  16.3430       2  13.600000    13.6    13.6    1.770000   \n795    68.0949  16.3506       2  13.100000    13.1    13.1    2.530000   \n949    68.0951  16.3646       2  14.500000    14.5    14.5    2.120000   \n1017   68.0953  16.3598       4  14.600000    14.6    14.6    0.985000   \n1059   68.0954  16.3568       4  13.800000    13.8    13.8    1.400000   \n1224   68.0958  16.3607       5  13.900000    13.9    13.9    1.500000   \n1344   68.0962  16.3668       2  14.200000    14.2    14.2    1.718750   \n1472   68.0964  16.3764       5  14.600000    14.6    14.6    2.766667   \n1575   68.0966  16.3758       3  13.600000    13.6    13.6    1.290000   \n1901   68.0974  16.3797       2  12.700000    12.7    12.7    2.545000   \n2588   68.0988  16.3877       5  16.200000    16.2    16.2    3.280000   \n2724   68.0993  16.3904       3  10.000000    10.0    10.0    1.500000   \n3016   68.1004  16.3838       3  15.241176    15.2    15.3    2.922941   \n3235   68.1012  16.3864       2  15.000000    15.0    15.0    3.640000   \n3242   68.1012  16.3892       3  16.900000    16.9    16.9    3.190000   \n3507   68.1024  16.3815       5  12.600000    12.6    12.6    1.085000   \n3689   68.1058  16.3937       2  12.800000    12.8    12.8    1.340000   \n3797   68.1092  16.3131       2  14.450000    13.4    15.5    1.885000   \n3800   68.1093  16.3129       2  15.500000    15.5    15.5    1.510000   \n3899   68.1124  16.3126       2  15.500000    15.5    15.5    2.625000   \n3901   68.1125  16.4163       2  12.900000    12.9    12.9    2.030000   \n3997   68.1162  16.3144       2  15.600000    15.6    15.6    2.520000   \n4874   68.1614  16.4727       2  11.300000    11.3    11.3    2.850000   \n5119   68.1813  16.5344       1  14.500000    14.5    14.5    2.740000   \n5219   68.1858  16.6113       3  14.500000    14.5    14.5    2.290000   \n5330   68.1905  16.5050       2  10.400000    10.4    10.4    2.470000   \n5982   68.2559  16.5632       5  12.500000    12.5    12.5   -1.560000   \n6058   68.2636  16.5513       4  12.100000    12.1    12.1   -1.060000   \n6098   68.2675  16.5455       4  11.900000    11.9    11.9   -0.825000   \n6347   68.2842  16.4935       4  10.700000    10.7    10.7   -0.070000   \n6603   68.2876  16.4760       4  10.400000    10.4    10.4    0.020000   \n6821   68.2916  16.6380       3   7.200000     7.2     7.2   -2.740000   \n7260   68.2976  16.5166       3   7.100000     7.1     7.1    0.840000   \n7284   68.2982  16.5143       3   7.100000     7.1     7.1    0.590000   \n8105   68.3303  16.7287       3   7.600000     7.6     7.6   -0.660000   \n8219   68.3316  16.8262       4   4.700000     4.7     4.7   -3.795000   \n8561   68.3362  16.8139       5   7.800000     7.8     7.8   -2.340000   \n8588   68.3365  16.8156       3   7.800000     7.8     7.8   -2.340000   \n8644   68.3370  16.8460       3   8.100000     8.1     8.1   -1.820000   \n9025   68.3419  16.8316       3   7.400000     7.4     7.4   -1.290000   \n9397   68.3471  17.5003       4  12.300000    12.3    12.3    1.795000   \n9786   68.3533  17.4857       4  12.500000    12.5    12.5    1.820000   \n9869   68.3548  17.0231       3   8.600000     8.6     8.6    0.430000   \n10082  68.3567  17.4830       4  11.500000    11.5    11.5    2.035000   \n10256  68.3595  17.0363       3   8.500000     8.5     8.5    0.210000   \n10298  68.3605  17.4755       4  12.800000    12.8    12.8    2.000000   \n10444  68.3635  17.4651       4  11.400000    11.4    11.4    1.540000   \n10480  68.3644  17.4617       4  11.900000    11.3    13.1    2.006667   \n10542  68.3656  17.0407       3   8.500000     8.5     8.5    0.570000   \n\n       Tsurf_min  Tsurf_max  Water_mean  ...  Tdew_mean  Tdew_min  Tdew_max  \\\n70          2.53       2.72    0.051667  ...        NaN       NaN       NaN   \n573         1.77       1.77    0.078000  ...        NaN       NaN       NaN   \n795         2.53       2.53    0.057000  ...        NaN       NaN       NaN   \n949         2.12       2.12    0.050000  ...        NaN       NaN       NaN   \n1017        0.98       0.99    0.084500  ...        NaN       NaN       NaN   \n1059        1.40       1.40    0.067000  ...        NaN       NaN       NaN   \n1224        1.50       1.50    0.041000  ...        NaN       NaN       NaN   \n1344        1.53       2.00    0.064750  ...        NaN       NaN       NaN   \n1472        2.68       2.84    0.079000  ...        NaN       NaN       NaN   \n1575        1.28       1.30    0.096500  ...        NaN       NaN       NaN   \n1901        2.50       2.59    0.071500  ...        NaN       NaN       NaN   \n2588        3.28       3.28    0.064000  ...        NaN       NaN       NaN   \n2724        1.31       1.65    0.224000  ...        NaN       NaN       NaN   \n3016        2.69       3.15    0.157765  ...        NaN       NaN       NaN   \n3235        3.64       3.64    0.063000  ...        NaN       NaN       NaN   \n3242        3.19       3.19    0.122000  ...        NaN       NaN       NaN   \n3507        1.08       1.09    0.076500  ...        NaN       NaN       NaN   \n3689        1.34       1.34    0.047000  ...        NaN       NaN       NaN   \n3797        1.67       2.10    0.053500  ...        NaN       NaN       NaN   \n3800        1.51       1.51    0.056000  ...        NaN       NaN       NaN   \n3899        2.59       2.66    0.055500  ...        NaN       NaN       NaN   \n3901        2.03       2.03    0.053000  ...        NaN       NaN       NaN   \n3997        2.52       2.52    0.056000  ...        NaN       NaN       NaN   \n4874        2.85       2.85    0.157000  ...        NaN       NaN       NaN   \n5119        2.74       2.74    0.002000  ...        NaN       NaN       NaN   \n5219        2.29       2.29    0.289000  ...        NaN       NaN       NaN   \n5330        2.47       2.47    0.085000  ...        NaN       NaN       NaN   \n5982       -1.56      -1.56    0.394000  ...        NaN       NaN       NaN   \n6058       -1.06      -1.06    0.298000  ...        NaN       NaN       NaN   \n6098       -0.83      -0.82    0.450500  ...        NaN       NaN       NaN   \n6347       -0.09      -0.05    0.094500  ...        NaN       NaN       NaN   \n6603        0.02       0.02    0.302000  ...        NaN       NaN       NaN   \n6821       -2.74      -2.74    0.305000  ...        NaN       NaN       NaN   \n7260        0.84       0.84    0.264000  ...        NaN       NaN       NaN   \n7284        0.59       0.59    0.248000  ...        NaN       NaN       NaN   \n8105       -0.66      -0.66    0.301000  ...        NaN       NaN       NaN   \n8219       -3.82      -3.77    0.153000  ...        NaN       NaN       NaN   \n8561       -2.34      -2.34    0.077000  ...        NaN       NaN       NaN   \n8588       -2.34      -2.34    0.118000  ...        NaN       NaN       NaN   \n8644       -1.82      -1.82    0.333000  ...        NaN       NaN       NaN   \n9025       -1.29      -1.29    0.293000  ...        NaN       NaN       NaN   \n9397        1.75       1.84    0.738000  ...        NaN       NaN       NaN   \n9786        1.82       1.82    0.754000  ...        NaN       NaN       NaN   \n9869        0.43       0.43    0.282000  ...        NaN       NaN       NaN   \n10082       2.01       2.05    0.512750  ...        NaN       NaN       NaN   \n10256       0.21       0.21    0.280000  ...        NaN       NaN       NaN   \n10298       2.00       2.00    1.131000  ...        NaN       NaN       NaN   \n10444       1.54       1.54    0.849000  ...        NaN       NaN       NaN   \n10480       1.75       2.47    0.847000  ...        NaN       NaN       NaN   \n10542       0.57       0.57    0.264000  ...        NaN       NaN       NaN   \n\n       Friction_mean  Friction_min  Friction_max  Date_<lambda>  \\\n70          0.720000          0.72          0.72     2020.12.22   \n573         0.720000          0.72          0.72     2020.12.22   \n795         0.710000          0.71          0.71     2020.12.22   \n949         0.560000          0.56          0.56     2020.12.22   \n1017        0.605000          0.60          0.61     2020.12.22   \n1059        0.400000          0.40          0.40     2020.12.22   \n1224        0.600000          0.60          0.60     2020.12.22   \n1344        0.692500          0.63          0.73     2020.12.22   \n1472        0.456667          0.45          0.47     2020.12.22   \n1575        0.570000          0.57          0.57     2020.12.22   \n1901        0.715000          0.71          0.72     2020.12.22   \n2588        0.420000          0.42          0.42     2020.12.22   \n2724        0.680000          0.68          0.68     2020.12.22   \n3016        0.680588          0.66          0.73     2020.12.22   \n3235        0.720000          0.72          0.72     2020.12.22   \n3242        0.610000          0.61          0.61     2020.12.22   \n3507        0.635000          0.62          0.65     2020.12.22   \n3689        0.720000          0.72          0.72     2020.12.22   \n3797        0.725000          0.72          0.73     2020.12.22   \n3800        0.730000          0.73          0.73     2020.12.22   \n3899        0.720000          0.72          0.72     2020.12.22   \n3901        0.710000          0.71          0.71     2020.12.22   \n3997        0.730000          0.73          0.73     2020.12.22   \n4874        0.690000          0.69          0.69     2020.12.22   \n5119        0.790000          0.79          0.79     2020.12.22   \n5219        0.710000          0.71          0.71     2020.12.22   \n5330        0.720000          0.72          0.72     2020.12.22   \n5982        0.290000          0.29          0.29     2020.12.22   \n6058        0.320000          0.32          0.32     2020.12.22   \n6098        0.250000          0.25          0.25     2020.12.22   \n6347        0.500000          0.50          0.50     2020.12.22   \n6603        0.720000          0.72          0.72     2020.12.22   \n6821        0.700000          0.70          0.70     2020.12.22   \n7260        0.670000          0.67          0.67     2020.12.22   \n7284        0.670000          0.67          0.67     2020.12.22   \n8105        0.670000          0.67          0.67     2020.12.22   \n8219        0.620000          0.62          0.62     2020.12.22   \n8561        0.370000          0.37          0.37     2020.12.22   \n8588        0.720000          0.72          0.72     2020.12.22   \n8644        0.660000          0.66          0.66     2020.12.22   \n9025        0.660000          0.66          0.66     2020.12.22   \n9397        0.230000          0.22          0.24     2020.12.21   \n9786        0.590000          0.59          0.59     2020.12.21   \n9869        0.670000          0.67          0.67     2020.12.22   \n10082       0.550000          0.55          0.55     2020.12.21   \n10256       0.670000          0.67          0.67     2020.12.22   \n10298       0.590000          0.59          0.59     2020.12.21   \n10444       0.560000          0.56          0.56     2020.12.21   \n10480       0.590000          0.56          0.65     2020.12.21   \n10542       0.670000          0.67          0.67     2020.12.22   \n\n       Time(+01:00)_min  Direction_min  Direction_max  \n70             11:59:56          104.7          107.0  \n573            12:36:09           82.9           82.9  \n795            12:50:57          279.4          279.4  \n949            13:38:05           68.1           68.1  \n1017           13:37:30           51.3           51.3  \n1059           12:57:43           68.3           68.3  \n1224           12:27:30          203.1          203.1  \n1344           13:45:58          251.8          270.3  \n1472           10:36:46          286.3          326.9  \n1575           11:01:34          237.4          237.4  \n1901           10:56:16           82.9           87.6  \n2588           09:50:51          211.4          211.4  \n2724           09:33:44          165.6          276.2  \n3016           10:23:16          179.6          232.3  \n3235           10:22:47          254.7          254.7  \n3242           09:57:08          238.6          238.6  \n3507           14:07:35           67.1           67.1  \n3689           14:08:15           51.5           51.5  \n3797           13:10:35          143.7          324.8  \n3800           13:33:08          143.6          143.6  \n3899           13:32:34          195.9          195.9  \n3901           14:09:16           23.7           23.7  \n3997           13:32:00          154.4          154.4  \n4874           08:54:06          213.4          213.4  \n5119           14:21:30          124.3          124.3  \n5219           14:25:05          328.7          328.7  \n5330           08:50:15          301.6          301.6  \n5982           14:31:59          330.2          330.2  \n6058           14:32:44          330.4          330.4  \n6098           14:33:06          328.3          328.3  \n6347           14:35:24          293.0          293.0  \n6603           14:36:26          353.2          353.2  \n6821           08:26:22          199.0          199.0  \n7260           08:31:26          296.4          296.4  \n7284           08:31:32          318.0          318.0  \n8105           08:18:04          254.9          254.9  \n8219           15:36:02          101.3          101.3  \n8561           15:00:31          263.1          263.1  \n8588           15:00:19          265.1          265.1  \n8644           08:09:09          269.9          269.9  \n9025           08:12:26          359.7          359.7  \n9397           14:34:38          288.0          288.2  \n9786           14:26:44          129.2          129.2  \n9869           08:01:49          271.5          271.5  \n10082          15:13:42          328.9          333.9  \n10256          08:01:11          200.0          200.0  \n10298          14:24:57          138.4          138.4  \n10444          15:17:42          303.6          303.6  \n10480          14:23:54          123.6          302.7  \n10542          08:00:38          189.7          189.7  \n\n[50 rows x 28 columns]",
      "text/html": "<div>\n<style scoped>\n    .dataframe tbody tr th:only-of-type {\n        vertical-align: middle;\n    }\n\n    .dataframe tbody tr th {\n        vertical-align: top;\n    }\n\n    .dataframe thead th {\n        text-align: right;\n    }\n</style>\n<table border=\"1\" class=\"dataframe\">\n  <thead>\n    <tr style=\"text-align: right;\">\n      <th></th>\n      <th>lat_</th>\n      <th>lon_</th>\n      <th>State_</th>\n      <th>Ta_mean</th>\n      <th>Ta_min</th>\n      <th>Ta_max</th>\n      <th>Tsurf_mean</th>\n      <th>Tsurf_min</th>\n      <th>Tsurf_max</th>\n      <th>Water_mean</th>\n      <th>...</th>\n      <th>Tdew_mean</th>\n      <th>Tdew_min</th>\n      <th>Tdew_max</th>\n      <th>Friction_mean</th>\n      <th>Friction_min</th>\n      <th>Friction_max</th>\n      <th>Date_&lt;lambda&gt;</th>\n      <th>Time(+01:00)_min</th>\n      <th>Direction_min</th>\n      <th>Direction_max</th>\n    </tr>\n  </thead>\n  <tbody>\n    <tr>\n      <th>70</th>\n      <td>68.0936</td>\n      <td>16.3699</td>\n      <td>2</td>\n      <td>13.300000</td>\n      <td>13.3</td>\n      <td>13.3</td>\n      <td>2.606667</td>\n      <td>2.53</td>\n      <td>2.72</td>\n      <td>0.051667</td>\n      <td>...</td>\n      <td>NaN</td>\n      <td>NaN</td>\n      <td>NaN</td>\n      <td>0.720000</td>\n      <td>0.72</td>\n      <td>0.72</td>\n      <td>2020.12.22</td>\n      <td>11:59:56</td>\n      <td>104.7</td>\n      <td>107.0</td>\n    </tr>\n    <tr>\n      <th>573</th>\n      <td>68.0947</td>\n      <td>16.3430</td>\n      <td>2</td>\n      <td>13.600000</td>\n      <td>13.6</td>\n      <td>13.6</td>\n      <td>1.770000</td>\n      <td>1.77</td>\n      <td>1.77</td>\n      <td>0.078000</td>\n      <td>...</td>\n      <td>NaN</td>\n      <td>NaN</td>\n      <td>NaN</td>\n      <td>0.720000</td>\n      <td>0.72</td>\n      <td>0.72</td>\n      <td>2020.12.22</td>\n      <td>12:36:09</td>\n      <td>82.9</td>\n      <td>82.9</td>\n    </tr>\n    <tr>\n      <th>795</th>\n      <td>68.0949</td>\n      <td>16.3506</td>\n      <td>2</td>\n      <td>13.100000</td>\n      <td>13.1</td>\n      <td>13.1</td>\n      <td>2.530000</td>\n      <td>2.53</td>\n      <td>2.53</td>\n      <td>0.057000</td>\n      <td>...</td>\n      <td>NaN</td>\n      <td>NaN</td>\n      <td>NaN</td>\n      <td>0.710000</td>\n      <td>0.71</td>\n      <td>0.71</td>\n      <td>2020.12.22</td>\n      <td>12:50:57</td>\n      <td>279.4</td>\n      <td>279.4</td>\n    </tr>\n    <tr>\n      <th>949</th>\n      <td>68.0951</td>\n      <td>16.3646</td>\n      <td>2</td>\n      <td>14.500000</td>\n      <td>14.5</td>\n      <td>14.5</td>\n      <td>2.120000</td>\n      <td>2.12</td>\n      <td>2.12</td>\n      <td>0.050000</td>\n      <td>...</td>\n      <td>NaN</td>\n      <td>NaN</td>\n      <td>NaN</td>\n      <td>0.560000</td>\n      <td>0.56</td>\n      <td>0.56</td>\n      <td>2020.12.22</td>\n      <td>13:38:05</td>\n      <td>68.1</td>\n      <td>68.1</td>\n    </tr>\n    <tr>\n      <th>1017</th>\n      <td>68.0953</td>\n      <td>16.3598</td>\n      <td>4</td>\n      <td>14.600000</td>\n      <td>14.6</td>\n      <td>14.6</td>\n      <td>0.985000</td>\n      <td>0.98</td>\n      <td>0.99</td>\n      <td>0.084500</td>\n      <td>...</td>\n      <td>NaN</td>\n      <td>NaN</td>\n      <td>NaN</td>\n      <td>0.605000</td>\n      <td>0.60</td>\n      <td>0.61</td>\n      <td>2020.12.22</td>\n      <td>13:37:30</td>\n      <td>51.3</td>\n      <td>51.3</td>\n    </tr>\n    <tr>\n      <th>1059</th>\n      <td>68.0954</td>\n      <td>16.3568</td>\n      <td>4</td>\n      <td>13.800000</td>\n      <td>13.8</td>\n      <td>13.8</td>\n      <td>1.400000</td>\n      <td>1.40</td>\n      <td>1.40</td>\n      <td>0.067000</td>\n      <td>...</td>\n      <td>NaN</td>\n      <td>NaN</td>\n      <td>NaN</td>\n      <td>0.400000</td>\n      <td>0.40</td>\n      <td>0.40</td>\n      <td>2020.12.22</td>\n      <td>12:57:43</td>\n      <td>68.3</td>\n      <td>68.3</td>\n    </tr>\n    <tr>\n      <th>1224</th>\n      <td>68.0958</td>\n      <td>16.3607</td>\n      <td>5</td>\n      <td>13.900000</td>\n      <td>13.9</td>\n      <td>13.9</td>\n      <td>1.500000</td>\n      <td>1.50</td>\n      <td>1.50</td>\n      <td>0.041000</td>\n      <td>...</td>\n      <td>NaN</td>\n      <td>NaN</td>\n      <td>NaN</td>\n      <td>0.600000</td>\n      <td>0.60</td>\n      <td>0.60</td>\n      <td>2020.12.22</td>\n      <td>12:27:30</td>\n      <td>203.1</td>\n      <td>203.1</td>\n    </tr>\n    <tr>\n      <th>1344</th>\n      <td>68.0962</td>\n      <td>16.3668</td>\n      <td>2</td>\n      <td>14.200000</td>\n      <td>14.2</td>\n      <td>14.2</td>\n      <td>1.718750</td>\n      <td>1.53</td>\n      <td>2.00</td>\n      <td>0.064750</td>\n      <td>...</td>\n      <td>NaN</td>\n      <td>NaN</td>\n      <td>NaN</td>\n      <td>0.692500</td>\n      <td>0.63</td>\n      <td>0.73</td>\n      <td>2020.12.22</td>\n      <td>13:45:58</td>\n      <td>251.8</td>\n      <td>270.3</td>\n    </tr>\n    <tr>\n      <th>1472</th>\n      <td>68.0964</td>\n      <td>16.3764</td>\n      <td>5</td>\n      <td>14.600000</td>\n      <td>14.6</td>\n      <td>14.6</td>\n      <td>2.766667</td>\n      <td>2.68</td>\n      <td>2.84</td>\n      <td>0.079000</td>\n      <td>...</td>\n      <td>NaN</td>\n      <td>NaN</td>\n      <td>NaN</td>\n      <td>0.456667</td>\n      <td>0.45</td>\n      <td>0.47</td>\n      <td>2020.12.22</td>\n      <td>10:36:46</td>\n      <td>286.3</td>\n      <td>326.9</td>\n    </tr>\n    <tr>\n      <th>1575</th>\n      <td>68.0966</td>\n      <td>16.3758</td>\n      <td>3</td>\n      <td>13.600000</td>\n      <td>13.6</td>\n      <td>13.6</td>\n      <td>1.290000</td>\n      <td>1.28</td>\n      <td>1.30</td>\n      <td>0.096500</td>\n      <td>...</td>\n      <td>NaN</td>\n      <td>NaN</td>\n      <td>NaN</td>\n      <td>0.570000</td>\n      <td>0.57</td>\n      <td>0.57</td>\n      <td>2020.12.22</td>\n      <td>11:01:34</td>\n      <td>237.4</td>\n      <td>237.4</td>\n    </tr>\n    <tr>\n      <th>1901</th>\n      <td>68.0974</td>\n      <td>16.3797</td>\n      <td>2</td>\n      <td>12.700000</td>\n      <td>12.7</td>\n      <td>12.7</td>\n      <td>2.545000</td>\n      <td>2.50</td>\n      <td>2.59</td>\n      <td>0.071500</td>\n      <td>...</td>\n      <td>NaN</td>\n      <td>NaN</td>\n      <td>NaN</td>\n      <td>0.715000</td>\n      <td>0.71</td>\n      <td>0.72</td>\n      <td>2020.12.22</td>\n      <td>10:56:16</td>\n      <td>82.9</td>\n      <td>87.6</td>\n    </tr>\n    <tr>\n      <th>2588</th>\n      <td>68.0988</td>\n      <td>16.3877</td>\n      <td>5</td>\n      <td>16.200000</td>\n      <td>16.2</td>\n      <td>16.2</td>\n      <td>3.280000</td>\n      <td>3.28</td>\n      <td>3.28</td>\n      <td>0.064000</td>\n      <td>...</td>\n      <td>NaN</td>\n      <td>NaN</td>\n      <td>NaN</td>\n      <td>0.420000</td>\n      <td>0.42</td>\n      <td>0.42</td>\n      <td>2020.12.22</td>\n      <td>09:50:51</td>\n      <td>211.4</td>\n      <td>211.4</td>\n    </tr>\n    <tr>\n      <th>2724</th>\n      <td>68.0993</td>\n      <td>16.3904</td>\n      <td>3</td>\n      <td>10.000000</td>\n      <td>10.0</td>\n      <td>10.0</td>\n      <td>1.500000</td>\n      <td>1.31</td>\n      <td>1.65</td>\n      <td>0.224000</td>\n      <td>...</td>\n      <td>NaN</td>\n      <td>NaN</td>\n      <td>NaN</td>\n      <td>0.680000</td>\n      <td>0.68</td>\n      <td>0.68</td>\n      <td>2020.12.22</td>\n      <td>09:33:44</td>\n      <td>165.6</td>\n      <td>276.2</td>\n    </tr>\n    <tr>\n      <th>3016</th>\n      <td>68.1004</td>\n      <td>16.3838</td>\n      <td>3</td>\n      <td>15.241176</td>\n      <td>15.2</td>\n      <td>15.3</td>\n      <td>2.922941</td>\n      <td>2.69</td>\n      <td>3.15</td>\n      <td>0.157765</td>\n      <td>...</td>\n      <td>NaN</td>\n      <td>NaN</td>\n      <td>NaN</td>\n      <td>0.680588</td>\n      <td>0.66</td>\n      <td>0.73</td>\n      <td>2020.12.22</td>\n      <td>10:23:16</td>\n      <td>179.6</td>\n      <td>232.3</td>\n    </tr>\n    <tr>\n      <th>3235</th>\n      <td>68.1012</td>\n      <td>16.3864</td>\n      <td>2</td>\n      <td>15.000000</td>\n      <td>15.0</td>\n      <td>15.0</td>\n      <td>3.640000</td>\n      <td>3.64</td>\n      <td>3.64</td>\n      <td>0.063000</td>\n      <td>...</td>\n      <td>NaN</td>\n      <td>NaN</td>\n      <td>NaN</td>\n      <td>0.720000</td>\n      <td>0.72</td>\n      <td>0.72</td>\n      <td>2020.12.22</td>\n      <td>10:22:47</td>\n      <td>254.7</td>\n      <td>254.7</td>\n    </tr>\n    <tr>\n      <th>3242</th>\n      <td>68.1012</td>\n      <td>16.3892</td>\n      <td>3</td>\n      <td>16.900000</td>\n      <td>16.9</td>\n      <td>16.9</td>\n      <td>3.190000</td>\n      <td>3.19</td>\n      <td>3.19</td>\n      <td>0.122000</td>\n      <td>...</td>\n      <td>NaN</td>\n      <td>NaN</td>\n      <td>NaN</td>\n      <td>0.610000</td>\n      <td>0.61</td>\n      <td>0.61</td>\n      <td>2020.12.22</td>\n      <td>09:57:08</td>\n      <td>238.6</td>\n      <td>238.6</td>\n    </tr>\n    <tr>\n      <th>3507</th>\n      <td>68.1024</td>\n      <td>16.3815</td>\n      <td>5</td>\n      <td>12.600000</td>\n      <td>12.6</td>\n      <td>12.6</td>\n      <td>1.085000</td>\n      <td>1.08</td>\n      <td>1.09</td>\n      <td>0.076500</td>\n      <td>...</td>\n      <td>NaN</td>\n      <td>NaN</td>\n      <td>NaN</td>\n      <td>0.635000</td>\n      <td>0.62</td>\n      <td>0.65</td>\n      <td>2020.12.22</td>\n      <td>14:07:35</td>\n      <td>67.1</td>\n      <td>67.1</td>\n    </tr>\n    <tr>\n      <th>3689</th>\n      <td>68.1058</td>\n      <td>16.3937</td>\n      <td>2</td>\n      <td>12.800000</td>\n      <td>12.8</td>\n      <td>12.8</td>\n      <td>1.340000</td>\n      <td>1.34</td>\n      <td>1.34</td>\n      <td>0.047000</td>\n      <td>...</td>\n      <td>NaN</td>\n      <td>NaN</td>\n      <td>NaN</td>\n      <td>0.720000</td>\n      <td>0.72</td>\n      <td>0.72</td>\n      <td>2020.12.22</td>\n      <td>14:08:15</td>\n      <td>51.5</td>\n      <td>51.5</td>\n    </tr>\n    <tr>\n      <th>3797</th>\n      <td>68.1092</td>\n      <td>16.3131</td>\n      <td>2</td>\n      <td>14.450000</td>\n      <td>13.4</td>\n      <td>15.5</td>\n      <td>1.885000</td>\n      <td>1.67</td>\n      <td>2.10</td>\n      <td>0.053500</td>\n      <td>...</td>\n      <td>NaN</td>\n      <td>NaN</td>\n      <td>NaN</td>\n      <td>0.725000</td>\n      <td>0.72</td>\n      <td>0.73</td>\n      <td>2020.12.22</td>\n      <td>13:10:35</td>\n      <td>143.7</td>\n      <td>324.8</td>\n    </tr>\n    <tr>\n      <th>3800</th>\n      <td>68.1093</td>\n      <td>16.3129</td>\n      <td>2</td>\n      <td>15.500000</td>\n      <td>15.5</td>\n      <td>15.5</td>\n      <td>1.510000</td>\n      <td>1.51</td>\n      <td>1.51</td>\n      <td>0.056000</td>\n      <td>...</td>\n      <td>NaN</td>\n      <td>NaN</td>\n      <td>NaN</td>\n      <td>0.730000</td>\n      <td>0.73</td>\n      <td>0.73</td>\n      <td>2020.12.22</td>\n      <td>13:33:08</td>\n      <td>143.6</td>\n      <td>143.6</td>\n    </tr>\n    <tr>\n      <th>3899</th>\n      <td>68.1124</td>\n      <td>16.3126</td>\n      <td>2</td>\n      <td>15.500000</td>\n      <td>15.5</td>\n      <td>15.5</td>\n      <td>2.625000</td>\n      <td>2.59</td>\n      <td>2.66</td>\n      <td>0.055500</td>\n      <td>...</td>\n      <td>NaN</td>\n      <td>NaN</td>\n      <td>NaN</td>\n      <td>0.720000</td>\n      <td>0.72</td>\n      <td>0.72</td>\n      <td>2020.12.22</td>\n      <td>13:32:34</td>\n      <td>195.9</td>\n      <td>195.9</td>\n    </tr>\n    <tr>\n      <th>3901</th>\n      <td>68.1125</td>\n      <td>16.4163</td>\n      <td>2</td>\n      <td>12.900000</td>\n      <td>12.9</td>\n      <td>12.9</td>\n      <td>2.030000</td>\n      <td>2.03</td>\n      <td>2.03</td>\n      <td>0.053000</td>\n      <td>...</td>\n      <td>NaN</td>\n      <td>NaN</td>\n      <td>NaN</td>\n      <td>0.710000</td>\n      <td>0.71</td>\n      <td>0.71</td>\n      <td>2020.12.22</td>\n      <td>14:09:16</td>\n      <td>23.7</td>\n      <td>23.7</td>\n    </tr>\n    <tr>\n      <th>3997</th>\n      <td>68.1162</td>\n      <td>16.3144</td>\n      <td>2</td>\n      <td>15.600000</td>\n      <td>15.6</td>\n      <td>15.6</td>\n      <td>2.520000</td>\n      <td>2.52</td>\n      <td>2.52</td>\n      <td>0.056000</td>\n      <td>...</td>\n      <td>NaN</td>\n      <td>NaN</td>\n      <td>NaN</td>\n      <td>0.730000</td>\n      <td>0.73</td>\n      <td>0.73</td>\n      <td>2020.12.22</td>\n      <td>13:32:00</td>\n      <td>154.4</td>\n      <td>154.4</td>\n    </tr>\n    <tr>\n      <th>4874</th>\n      <td>68.1614</td>\n      <td>16.4727</td>\n      <td>2</td>\n      <td>11.300000</td>\n      <td>11.3</td>\n      <td>11.3</td>\n      <td>2.850000</td>\n      <td>2.85</td>\n      <td>2.85</td>\n      <td>0.157000</td>\n      <td>...</td>\n      <td>NaN</td>\n      <td>NaN</td>\n      <td>NaN</td>\n      <td>0.690000</td>\n      <td>0.69</td>\n      <td>0.69</td>\n      <td>2020.12.22</td>\n      <td>08:54:06</td>\n      <td>213.4</td>\n      <td>213.4</td>\n    </tr>\n    <tr>\n      <th>5119</th>\n      <td>68.1813</td>\n      <td>16.5344</td>\n      <td>1</td>\n      <td>14.500000</td>\n      <td>14.5</td>\n      <td>14.5</td>\n      <td>2.740000</td>\n      <td>2.74</td>\n      <td>2.74</td>\n      <td>0.002000</td>\n      <td>...</td>\n      <td>NaN</td>\n      <td>NaN</td>\n      <td>NaN</td>\n      <td>0.790000</td>\n      <td>0.79</td>\n      <td>0.79</td>\n      <td>2020.12.22</td>\n      <td>14:21:30</td>\n      <td>124.3</td>\n      <td>124.3</td>\n    </tr>\n    <tr>\n      <th>5219</th>\n      <td>68.1858</td>\n      <td>16.6113</td>\n      <td>3</td>\n      <td>14.500000</td>\n      <td>14.5</td>\n      <td>14.5</td>\n      <td>2.290000</td>\n      <td>2.29</td>\n      <td>2.29</td>\n      <td>0.289000</td>\n      <td>...</td>\n      <td>NaN</td>\n      <td>NaN</td>\n      <td>NaN</td>\n      <td>0.710000</td>\n      <td>0.71</td>\n      <td>0.71</td>\n      <td>2020.12.22</td>\n      <td>14:25:05</td>\n      <td>328.7</td>\n      <td>328.7</td>\n    </tr>\n    <tr>\n      <th>5330</th>\n      <td>68.1905</td>\n      <td>16.5050</td>\n      <td>2</td>\n      <td>10.400000</td>\n      <td>10.4</td>\n      <td>10.4</td>\n      <td>2.470000</td>\n      <td>2.47</td>\n      <td>2.47</td>\n      <td>0.085000</td>\n      <td>...</td>\n      <td>NaN</td>\n      <td>NaN</td>\n      <td>NaN</td>\n      <td>0.720000</td>\n      <td>0.72</td>\n      <td>0.72</td>\n      <td>2020.12.22</td>\n      <td>08:50:15</td>\n      <td>301.6</td>\n      <td>301.6</td>\n    </tr>\n    <tr>\n      <th>5982</th>\n      <td>68.2559</td>\n      <td>16.5632</td>\n      <td>5</td>\n      <td>12.500000</td>\n      <td>12.5</td>\n      <td>12.5</td>\n      <td>-1.560000</td>\n      <td>-1.56</td>\n      <td>-1.56</td>\n      <td>0.394000</td>\n      <td>...</td>\n      <td>NaN</td>\n      <td>NaN</td>\n      <td>NaN</td>\n      <td>0.290000</td>\n      <td>0.29</td>\n      <td>0.29</td>\n      <td>2020.12.22</td>\n      <td>14:31:59</td>\n      <td>330.2</td>\n      <td>330.2</td>\n    </tr>\n    <tr>\n      <th>6058</th>\n      <td>68.2636</td>\n      <td>16.5513</td>\n      <td>4</td>\n      <td>12.100000</td>\n      <td>12.1</td>\n      <td>12.1</td>\n      <td>-1.060000</td>\n      <td>-1.06</td>\n      <td>-1.06</td>\n      <td>0.298000</td>\n      <td>...</td>\n      <td>NaN</td>\n      <td>NaN</td>\n      <td>NaN</td>\n      <td>0.320000</td>\n      <td>0.32</td>\n      <td>0.32</td>\n      <td>2020.12.22</td>\n      <td>14:32:44</td>\n      <td>330.4</td>\n      <td>330.4</td>\n    </tr>\n    <tr>\n      <th>6098</th>\n      <td>68.2675</td>\n      <td>16.5455</td>\n      <td>4</td>\n      <td>11.900000</td>\n      <td>11.9</td>\n      <td>11.9</td>\n      <td>-0.825000</td>\n      <td>-0.83</td>\n      <td>-0.82</td>\n      <td>0.450500</td>\n      <td>...</td>\n      <td>NaN</td>\n      <td>NaN</td>\n      <td>NaN</td>\n      <td>0.250000</td>\n      <td>0.25</td>\n      <td>0.25</td>\n      <td>2020.12.22</td>\n      <td>14:33:06</td>\n      <td>328.3</td>\n      <td>328.3</td>\n    </tr>\n    <tr>\n      <th>6347</th>\n      <td>68.2842</td>\n      <td>16.4935</td>\n      <td>4</td>\n      <td>10.700000</td>\n      <td>10.7</td>\n      <td>10.7</td>\n      <td>-0.070000</td>\n      <td>-0.09</td>\n      <td>-0.05</td>\n      <td>0.094500</td>\n      <td>...</td>\n      <td>NaN</td>\n      <td>NaN</td>\n      <td>NaN</td>\n      <td>0.500000</td>\n      <td>0.50</td>\n      <td>0.50</td>\n      <td>2020.12.22</td>\n      <td>14:35:24</td>\n      <td>293.0</td>\n      <td>293.0</td>\n    </tr>\n    <tr>\n      <th>6603</th>\n      <td>68.2876</td>\n      <td>16.4760</td>\n      <td>4</td>\n      <td>10.400000</td>\n      <td>10.4</td>\n      <td>10.4</td>\n      <td>0.020000</td>\n      <td>0.02</td>\n      <td>0.02</td>\n      <td>0.302000</td>\n      <td>...</td>\n      <td>NaN</td>\n      <td>NaN</td>\n      <td>NaN</td>\n      <td>0.720000</td>\n      <td>0.72</td>\n      <td>0.72</td>\n      <td>2020.12.22</td>\n      <td>14:36:26</td>\n      <td>353.2</td>\n      <td>353.2</td>\n    </tr>\n    <tr>\n      <th>6821</th>\n      <td>68.2916</td>\n      <td>16.6380</td>\n      <td>3</td>\n      <td>7.200000</td>\n      <td>7.2</td>\n      <td>7.2</td>\n      <td>-2.740000</td>\n      <td>-2.74</td>\n      <td>-2.74</td>\n      <td>0.305000</td>\n      <td>...</td>\n      <td>NaN</td>\n      <td>NaN</td>\n      <td>NaN</td>\n      <td>0.700000</td>\n      <td>0.70</td>\n      <td>0.70</td>\n      <td>2020.12.22</td>\n      <td>08:26:22</td>\n      <td>199.0</td>\n      <td>199.0</td>\n    </tr>\n    <tr>\n      <th>7260</th>\n      <td>68.2976</td>\n      <td>16.5166</td>\n      <td>3</td>\n      <td>7.100000</td>\n      <td>7.1</td>\n      <td>7.1</td>\n      <td>0.840000</td>\n      <td>0.84</td>\n      <td>0.84</td>\n      <td>0.264000</td>\n      <td>...</td>\n      <td>NaN</td>\n      <td>NaN</td>\n      <td>NaN</td>\n      <td>0.670000</td>\n      <td>0.67</td>\n      <td>0.67</td>\n      <td>2020.12.22</td>\n      <td>08:31:26</td>\n      <td>296.4</td>\n      <td>296.4</td>\n    </tr>\n    <tr>\n      <th>7284</th>\n      <td>68.2982</td>\n      <td>16.5143</td>\n      <td>3</td>\n      <td>7.100000</td>\n      <td>7.1</td>\n      <td>7.1</td>\n      <td>0.590000</td>\n      <td>0.59</td>\n      <td>0.59</td>\n      <td>0.248000</td>\n      <td>...</td>\n      <td>NaN</td>\n      <td>NaN</td>\n      <td>NaN</td>\n      <td>0.670000</td>\n      <td>0.67</td>\n      <td>0.67</td>\n      <td>2020.12.22</td>\n      <td>08:31:32</td>\n      <td>318.0</td>\n      <td>318.0</td>\n    </tr>\n    <tr>\n      <th>8105</th>\n      <td>68.3303</td>\n      <td>16.7287</td>\n      <td>3</td>\n      <td>7.600000</td>\n      <td>7.6</td>\n      <td>7.6</td>\n      <td>-0.660000</td>\n      <td>-0.66</td>\n      <td>-0.66</td>\n      <td>0.301000</td>\n      <td>...</td>\n      <td>NaN</td>\n      <td>NaN</td>\n      <td>NaN</td>\n      <td>0.670000</td>\n      <td>0.67</td>\n      <td>0.67</td>\n      <td>2020.12.22</td>\n      <td>08:18:04</td>\n      <td>254.9</td>\n      <td>254.9</td>\n    </tr>\n    <tr>\n      <th>8219</th>\n      <td>68.3316</td>\n      <td>16.8262</td>\n      <td>4</td>\n      <td>4.700000</td>\n      <td>4.7</td>\n      <td>4.7</td>\n      <td>-3.795000</td>\n      <td>-3.82</td>\n      <td>-3.77</td>\n      <td>0.153000</td>\n      <td>...</td>\n      <td>NaN</td>\n      <td>NaN</td>\n      <td>NaN</td>\n      <td>0.620000</td>\n      <td>0.62</td>\n      <td>0.62</td>\n      <td>2020.12.22</td>\n      <td>15:36:02</td>\n      <td>101.3</td>\n      <td>101.3</td>\n    </tr>\n    <tr>\n      <th>8561</th>\n      <td>68.3362</td>\n      <td>16.8139</td>\n      <td>5</td>\n      <td>7.800000</td>\n      <td>7.8</td>\n      <td>7.8</td>\n      <td>-2.340000</td>\n      <td>-2.34</td>\n      <td>-2.34</td>\n      <td>0.077000</td>\n      <td>...</td>\n      <td>NaN</td>\n      <td>NaN</td>\n      <td>NaN</td>\n      <td>0.370000</td>\n      <td>0.37</td>\n      <td>0.37</td>\n      <td>2020.12.22</td>\n      <td>15:00:31</td>\n      <td>263.1</td>\n      <td>263.1</td>\n    </tr>\n    <tr>\n      <th>8588</th>\n      <td>68.3365</td>\n      <td>16.8156</td>\n      <td>3</td>\n      <td>7.800000</td>\n      <td>7.8</td>\n      <td>7.8</td>\n      <td>-2.340000</td>\n      <td>-2.34</td>\n      <td>-2.34</td>\n      <td>0.118000</td>\n      <td>...</td>\n      <td>NaN</td>\n      <td>NaN</td>\n      <td>NaN</td>\n      <td>0.720000</td>\n      <td>0.72</td>\n      <td>0.72</td>\n      <td>2020.12.22</td>\n      <td>15:00:19</td>\n      <td>265.1</td>\n      <td>265.1</td>\n    </tr>\n    <tr>\n      <th>8644</th>\n      <td>68.3370</td>\n      <td>16.8460</td>\n      <td>3</td>\n      <td>8.100000</td>\n      <td>8.1</td>\n      <td>8.1</td>\n      <td>-1.820000</td>\n      <td>-1.82</td>\n      <td>-1.82</td>\n      <td>0.333000</td>\n      <td>...</td>\n      <td>NaN</td>\n      <td>NaN</td>\n      <td>NaN</td>\n      <td>0.660000</td>\n      <td>0.66</td>\n      <td>0.66</td>\n      <td>2020.12.22</td>\n      <td>08:09:09</td>\n      <td>269.9</td>\n      <td>269.9</td>\n    </tr>\n    <tr>\n      <th>9025</th>\n      <td>68.3419</td>\n      <td>16.8316</td>\n      <td>3</td>\n      <td>7.400000</td>\n      <td>7.4</td>\n      <td>7.4</td>\n      <td>-1.290000</td>\n      <td>-1.29</td>\n      <td>-1.29</td>\n      <td>0.293000</td>\n      <td>...</td>\n      <td>NaN</td>\n      <td>NaN</td>\n      <td>NaN</td>\n      <td>0.660000</td>\n      <td>0.66</td>\n      <td>0.66</td>\n      <td>2020.12.22</td>\n      <td>08:12:26</td>\n      <td>359.7</td>\n      <td>359.7</td>\n    </tr>\n    <tr>\n      <th>9397</th>\n      <td>68.3471</td>\n      <td>17.5003</td>\n      <td>4</td>\n      <td>12.300000</td>\n      <td>12.3</td>\n      <td>12.3</td>\n      <td>1.795000</td>\n      <td>1.75</td>\n      <td>1.84</td>\n      <td>0.738000</td>\n      <td>...</td>\n      <td>NaN</td>\n      <td>NaN</td>\n      <td>NaN</td>\n      <td>0.230000</td>\n      <td>0.22</td>\n      <td>0.24</td>\n      <td>2020.12.21</td>\n      <td>14:34:38</td>\n      <td>288.0</td>\n      <td>288.2</td>\n    </tr>\n    <tr>\n      <th>9786</th>\n      <td>68.3533</td>\n      <td>17.4857</td>\n      <td>4</td>\n      <td>12.500000</td>\n      <td>12.5</td>\n      <td>12.5</td>\n      <td>1.820000</td>\n      <td>1.82</td>\n      <td>1.82</td>\n      <td>0.754000</td>\n      <td>...</td>\n      <td>NaN</td>\n      <td>NaN</td>\n      <td>NaN</td>\n      <td>0.590000</td>\n      <td>0.59</td>\n      <td>0.59</td>\n      <td>2020.12.21</td>\n      <td>14:26:44</td>\n      <td>129.2</td>\n      <td>129.2</td>\n    </tr>\n    <tr>\n      <th>9869</th>\n      <td>68.3548</td>\n      <td>17.0231</td>\n      <td>3</td>\n      <td>8.600000</td>\n      <td>8.6</td>\n      <td>8.6</td>\n      <td>0.430000</td>\n      <td>0.43</td>\n      <td>0.43</td>\n      <td>0.282000</td>\n      <td>...</td>\n      <td>NaN</td>\n      <td>NaN</td>\n      <td>NaN</td>\n      <td>0.670000</td>\n      <td>0.67</td>\n      <td>0.67</td>\n      <td>2020.12.22</td>\n      <td>08:01:49</td>\n      <td>271.5</td>\n      <td>271.5</td>\n    </tr>\n    <tr>\n      <th>10082</th>\n      <td>68.3567</td>\n      <td>17.4830</td>\n      <td>4</td>\n      <td>11.500000</td>\n      <td>11.5</td>\n      <td>11.5</td>\n      <td>2.035000</td>\n      <td>2.01</td>\n      <td>2.05</td>\n      <td>0.512750</td>\n      <td>...</td>\n      <td>NaN</td>\n      <td>NaN</td>\n      <td>NaN</td>\n      <td>0.550000</td>\n      <td>0.55</td>\n      <td>0.55</td>\n      <td>2020.12.21</td>\n      <td>15:13:42</td>\n      <td>328.9</td>\n      <td>333.9</td>\n    </tr>\n    <tr>\n      <th>10256</th>\n      <td>68.3595</td>\n      <td>17.0363</td>\n      <td>3</td>\n      <td>8.500000</td>\n      <td>8.5</td>\n      <td>8.5</td>\n      <td>0.210000</td>\n      <td>0.21</td>\n      <td>0.21</td>\n      <td>0.280000</td>\n      <td>...</td>\n      <td>NaN</td>\n      <td>NaN</td>\n      <td>NaN</td>\n      <td>0.670000</td>\n      <td>0.67</td>\n      <td>0.67</td>\n      <td>2020.12.22</td>\n      <td>08:01:11</td>\n      <td>200.0</td>\n      <td>200.0</td>\n    </tr>\n    <tr>\n      <th>10298</th>\n      <td>68.3605</td>\n      <td>17.4755</td>\n      <td>4</td>\n      <td>12.800000</td>\n      <td>12.8</td>\n      <td>12.8</td>\n      <td>2.000000</td>\n      <td>2.00</td>\n      <td>2.00</td>\n      <td>1.131000</td>\n      <td>...</td>\n      <td>NaN</td>\n      <td>NaN</td>\n      <td>NaN</td>\n      <td>0.590000</td>\n      <td>0.59</td>\n      <td>0.59</td>\n      <td>2020.12.21</td>\n      <td>14:24:57</td>\n      <td>138.4</td>\n      <td>138.4</td>\n    </tr>\n    <tr>\n      <th>10444</th>\n      <td>68.3635</td>\n      <td>17.4651</td>\n      <td>4</td>\n      <td>11.400000</td>\n      <td>11.4</td>\n      <td>11.4</td>\n      <td>1.540000</td>\n      <td>1.54</td>\n      <td>1.54</td>\n      <td>0.849000</td>\n      <td>...</td>\n      <td>NaN</td>\n      <td>NaN</td>\n      <td>NaN</td>\n      <td>0.560000</td>\n      <td>0.56</td>\n      <td>0.56</td>\n      <td>2020.12.21</td>\n      <td>15:17:42</td>\n      <td>303.6</td>\n      <td>303.6</td>\n    </tr>\n    <tr>\n      <th>10480</th>\n      <td>68.3644</td>\n      <td>17.4617</td>\n      <td>4</td>\n      <td>11.900000</td>\n      <td>11.3</td>\n      <td>13.1</td>\n      <td>2.006667</td>\n      <td>1.75</td>\n      <td>2.47</td>\n      <td>0.847000</td>\n      <td>...</td>\n      <td>NaN</td>\n      <td>NaN</td>\n      <td>NaN</td>\n      <td>0.590000</td>\n      <td>0.56</td>\n      <td>0.65</td>\n      <td>2020.12.21</td>\n      <td>14:23:54</td>\n      <td>123.6</td>\n      <td>302.7</td>\n    </tr>\n    <tr>\n      <th>10542</th>\n      <td>68.3656</td>\n      <td>17.0407</td>\n      <td>3</td>\n      <td>8.500000</td>\n      <td>8.5</td>\n      <td>8.5</td>\n      <td>0.570000</td>\n      <td>0.57</td>\n      <td>0.57</td>\n      <td>0.264000</td>\n      <td>...</td>\n      <td>NaN</td>\n      <td>NaN</td>\n      <td>NaN</td>\n      <td>0.670000</td>\n      <td>0.67</td>\n      <td>0.67</td>\n      <td>2020.12.22</td>\n      <td>08:00:38</td>\n      <td>189.7</td>\n      <td>189.7</td>\n    </tr>\n  </tbody>\n</table>\n<p>50 rows × 28 columns</p>\n</div>"
     },
     "execution_count": 11,
     "metadata": {},
     "output_type": "execute_result"
    }
   ],
   "source": [
    "roads_sample.sort_index().head(50)"
   ],
   "metadata": {
    "collapsed": false
   }
  },
  {
   "cell_type": "code",
   "source": [
    "roads_sample.columns"
   ],
   "metadata": {
    "execution": {
     "iopub.status.busy": "2022-10-23T10:49:00.968636Z",
     "iopub.status.idle": "2022-10-23T10:49:00.969181Z",
     "shell.execute_reply.started": "2022-10-23T10:49:00.968951Z",
     "shell.execute_reply": "2022-10-23T10:49:00.968970Z"
    },
    "trusted": true
   },
   "execution_count": null,
   "outputs": []
  },
  {
   "cell_type": "markdown",
   "source": [
    "- Date - The date for recording (YYYY-MM-DD)\n",
    "- Time - The time when recording at a given date (HH:MM:SS.6f)\n",
    "- S1 - Measurement signal 1 (not to be used)\n",
    "- S2 - Measurement signal 2 (not to be used)\n",
    "- S3 - Measurement signal 3 (not to be used)\n",
    "- Friction - Measure friction value between 0.1-0.81 \n",
    "- State - Values of 1-6 for: dry, moist, wet, icy, snowy, slushy\n",
    "- Ta - Temperature in the air\n",
    "- S7, S9, S10, S11 -- NA \n",
    "- Tsurf - Temperature on the measured surface\n",
    "- Water - Water layer thicknes in 0-3 mm\n",
    "- Height - Above sealevel in m \n",
    "- Tdew - The dewpoint temperature (not used in every aspect)\n",
    "- Friction2 - Another calculation of friction (not used)\n",
    "- Distance - Driven distance in m since startup of a session\n",
    "- Serial(sensor RCM411) - Serial number of the current sensor"
   ],
   "metadata": {}
  },
  {
   "cell_type": "markdown",
   "source": [
    "- Friction: Measured friction value between 0.1-0.81\n",
    "- State: Values of 1-6 for Dry, Moist, Wet, Icy, Snowy, Slushy\n",
    "- Ta: Air temperature\n",
    "- Tsurf: Surface temperature\n",
    "- Water: Water layer thickness in 0-3 mm\n",
    "- Speed: Wind speed\n",
    "- Latitude\n",
    "- Longitude\n",
    "- Height: Above sea-level in m\n",
    "- Accuracy\n"
   ],
   "metadata": {}
  },
  {
   "cell_type": "code",
   "source": [
    "roads_sample.drop([\"Unnamed: 0\"], inplace=True, axis = 1)"
   ],
   "metadata": {
    "execution": {
     "iopub.status.busy": "2022-10-23T10:49:00.970886Z",
     "iopub.status.idle": "2022-10-23T10:49:00.971730Z",
     "shell.execute_reply.started": "2022-10-23T10:49:00.971559Z",
     "shell.execute_reply": "2022-10-23T10:49:00.971577Z"
    },
    "trusted": true
   },
   "execution_count": null,
   "outputs": []
  },
  {
   "cell_type": "code",
   "source": [
    "roads_sample[\"Date\"].min()"
   ],
   "metadata": {
    "execution": {
     "iopub.status.busy": "2022-10-23T10:49:00.972865Z",
     "iopub.status.idle": "2022-10-23T10:49:00.974026Z",
     "shell.execute_reply.started": "2022-10-23T10:49:00.973599Z",
     "shell.execute_reply": "2022-10-23T10:49:00.973647Z"
    },
    "trusted": true
   },
   "execution_count": null,
   "outputs": []
  },
  {
   "cell_type": "code",
   "source": [],
   "metadata": {},
   "execution_count": null,
   "outputs": []
  },
  {
   "cell_type": "code",
   "source": [
    "sns.pairplot(roads_sample[[\"State\", \"Water\", \"Friction\", \"Height\", \"Direction\", \"Speed\", \"Tsurf\", \"Ta\"]], hue = \"State\")"
   ],
   "metadata": {
    "execution": {
     "iopub.status.busy": "2022-10-23T10:49:00.975621Z",
     "iopub.status.idle": "2022-10-23T10:49:00.976854Z",
     "shell.execute_reply.started": "2022-10-23T10:49:00.976500Z",
     "shell.execute_reply": "2022-10-23T10:49:00.976541Z"
    },
    "trusted": true
   },
   "execution_count": null,
   "outputs": []
  },
  {
   "cell_type": "code",
   "source": [
    "roads_sample.describe()"
   ],
   "metadata": {
    "execution": {
     "iopub.status.busy": "2022-10-23T10:49:00.978680Z",
     "iopub.status.idle": "2022-10-23T10:49:00.979078Z",
     "shell.execute_reply.started": "2022-10-23T10:49:00.978922Z",
     "shell.execute_reply": "2022-10-23T10:49:00.978938Z"
    },
    "trusted": true
   },
   "execution_count": null,
   "outputs": []
  },
  {
   "cell_type": "code",
   "execution_count": null,
   "outputs": [],
   "source": [
    "roads_sample['max']"
   ],
   "metadata": {
    "collapsed": false
   }
  }
 ]
}
